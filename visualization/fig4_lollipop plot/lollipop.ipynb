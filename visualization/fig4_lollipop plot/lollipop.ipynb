{
 "cells": [
  {
   "cell_type": "code",
   "execution_count": 1,
   "id": "dab3c66f",
   "metadata": {},
   "outputs": [],
   "source": [
    "import pandas as pd\n",
    "import numpy as np\n",
    "import re\n",
    "import plotly.graph_objects as go\n",
    "import plotly.express as px"
   ]
  },
  {
   "cell_type": "code",
   "execution_count": 2,
   "id": "799b41d2",
   "metadata": {},
   "outputs": [
    {
     "data": {
      "text/html": [
       "<div>\n",
       "<style scoped>\n",
       "    .dataframe tbody tr th:only-of-type {\n",
       "        vertical-align: middle;\n",
       "    }\n",
       "\n",
       "    .dataframe tbody tr th {\n",
       "        vertical-align: top;\n",
       "    }\n",
       "\n",
       "    .dataframe thead th {\n",
       "        text-align: right;\n",
       "    }\n",
       "</style>\n",
       "<table border=\"1\" class=\"dataframe\">\n",
       "  <thead>\n",
       "    <tr style=\"text-align: right;\">\n",
       "      <th></th>\n",
       "      <th>state</th>\n",
       "      <th>year</th>\n",
       "      <th>month</th>\n",
       "      <th>actual</th>\n",
       "      <th>Viewing Date</th>\n",
       "      <th>Elevation</th>\n",
       "    </tr>\n",
       "  </thead>\n",
       "  <tbody>\n",
       "    <tr>\n",
       "      <th>0</th>\n",
       "      <td>AK</td>\n",
       "      <td>2012</td>\n",
       "      <td>2012/3/23</td>\n",
       "      <td>3/23</td>\n",
       "      <td>83</td>\n",
       "      <td>580</td>\n",
       "    </tr>\n",
       "    <tr>\n",
       "      <th>1</th>\n",
       "      <td>AK</td>\n",
       "      <td>2013</td>\n",
       "      <td>2013/4/11</td>\n",
       "      <td>4/11</td>\n",
       "      <td>101</td>\n",
       "      <td>580</td>\n",
       "    </tr>\n",
       "    <tr>\n",
       "      <th>2</th>\n",
       "      <td>AK</td>\n",
       "      <td>2017</td>\n",
       "      <td>2017/3/22</td>\n",
       "      <td>3/22</td>\n",
       "      <td>81</td>\n",
       "      <td>580</td>\n",
       "    </tr>\n",
       "    <tr>\n",
       "      <th>3</th>\n",
       "      <td>AK</td>\n",
       "      <td>2018</td>\n",
       "      <td>2018/3/11</td>\n",
       "      <td>3/11</td>\n",
       "      <td>70</td>\n",
       "      <td>580</td>\n",
       "    </tr>\n",
       "    <tr>\n",
       "      <th>4</th>\n",
       "      <td>AK</td>\n",
       "      <td>2019</td>\n",
       "      <td>2019/3/16</td>\n",
       "      <td>3/16</td>\n",
       "      <td>75</td>\n",
       "      <td>580</td>\n",
       "    </tr>\n",
       "    <tr>\n",
       "      <th>...</th>\n",
       "      <td>...</td>\n",
       "      <td>...</td>\n",
       "      <td>...</td>\n",
       "      <td>...</td>\n",
       "      <td>...</td>\n",
       "      <td>...</td>\n",
       "    </tr>\n",
       "    <tr>\n",
       "      <th>503</th>\n",
       "      <td>WY</td>\n",
       "      <td>2013</td>\n",
       "      <td>2013/4/15</td>\n",
       "      <td>4/15</td>\n",
       "      <td>105</td>\n",
       "      <td>2044</td>\n",
       "    </tr>\n",
       "    <tr>\n",
       "      <th>504</th>\n",
       "      <td>WY</td>\n",
       "      <td>2015</td>\n",
       "      <td>2015/4/09</td>\n",
       "      <td>4/09</td>\n",
       "      <td>99</td>\n",
       "      <td>2044</td>\n",
       "    </tr>\n",
       "    <tr>\n",
       "      <th>505</th>\n",
       "      <td>WY</td>\n",
       "      <td>2016</td>\n",
       "      <td>2016/3/28</td>\n",
       "      <td>3/28</td>\n",
       "      <td>88</td>\n",
       "      <td>2044</td>\n",
       "    </tr>\n",
       "    <tr>\n",
       "      <th>506</th>\n",
       "      <td>WY</td>\n",
       "      <td>2018</td>\n",
       "      <td>2018/4/02</td>\n",
       "      <td>4/02</td>\n",
       "      <td>92</td>\n",
       "      <td>2044</td>\n",
       "    </tr>\n",
       "    <tr>\n",
       "      <th>507</th>\n",
       "      <td>WY</td>\n",
       "      <td>2020</td>\n",
       "      <td>2020/3/27</td>\n",
       "      <td>3/27</td>\n",
       "      <td>87</td>\n",
       "      <td>2044</td>\n",
       "    </tr>\n",
       "  </tbody>\n",
       "</table>\n",
       "<p>508 rows × 6 columns</p>\n",
       "</div>"
      ],
      "text/plain": [
       "    state  year      month actual  Viewing Date  Elevation\n",
       "0      AK  2012  2012/3/23   3/23            83        580\n",
       "1      AK  2013  2013/4/11   4/11           101        580\n",
       "2      AK  2017  2017/3/22   3/22            81        580\n",
       "3      AK  2018  2018/3/11   3/11            70        580\n",
       "4      AK  2019  2019/3/16   3/16            75        580\n",
       "..    ...   ...        ...    ...           ...        ...\n",
       "503    WY  2013  2013/4/15   4/15           105       2044\n",
       "504    WY  2015  2015/4/09   4/09            99       2044\n",
       "505    WY  2016  2016/3/28   3/28            88       2044\n",
       "506    WY  2018  2018/4/02   4/02            92       2044\n",
       "507    WY  2020  2020/3/27   3/27            87       2044\n",
       "\n",
       "[508 rows x 6 columns]"
      ]
     },
     "execution_count": 2,
     "metadata": {},
     "output_type": "execute_result"
    }
   ],
   "source": [
    "df = pd.read_excel('map55.xlsx')\n",
    "df"
   ]
  },
  {
   "cell_type": "code",
   "execution_count": 3,
   "id": "a0f013e2",
   "metadata": {},
   "outputs": [],
   "source": [
    "el=sorted(df['Elevation'].unique())"
   ]
  },
  {
   "cell_type": "code",
   "execution_count": 4,
   "id": "3c6b770e",
   "metadata": {},
   "outputs": [],
   "source": [
    "ele={}\n",
    "for i in range(0,len(el)):\n",
    "    if i<=9:\n",
    "        ele[el[i]]=1\n",
    "    if 10<=i<=19:\n",
    "        ele[el[i]]=2\n",
    "    if 20<=i<=29:\n",
    "        ele[el[i]]=3\n",
    "    if 30<=i<=39:\n",
    "        ele[el[i]]=4"
   ]
  },
  {
   "cell_type": "code",
   "execution_count": 5,
   "id": "a2a07d06",
   "metadata": {},
   "outputs": [],
   "source": [
    "ele_rank=[]\n",
    "for i in range(0,df.shape[0]):\n",
    "    temp=ele[df.iloc[i,5]]\n",
    "    ele_rank.append(temp)\n",
    "df['ele_rank']=ele_rank"
   ]
  },
  {
   "cell_type": "code",
   "execution_count": 6,
   "id": "fbddc57c",
   "metadata": {},
   "outputs": [
    {
     "data": {
      "text/html": [
       "<div>\n",
       "<style scoped>\n",
       "    .dataframe tbody tr th:only-of-type {\n",
       "        vertical-align: middle;\n",
       "    }\n",
       "\n",
       "    .dataframe tbody tr th {\n",
       "        vertical-align: top;\n",
       "    }\n",
       "\n",
       "    .dataframe thead th {\n",
       "        text-align: right;\n",
       "    }\n",
       "</style>\n",
       "<table border=\"1\" class=\"dataframe\">\n",
       "  <thead>\n",
       "    <tr style=\"text-align: right;\">\n",
       "      <th></th>\n",
       "      <th>state</th>\n",
       "      <th>year</th>\n",
       "      <th>month</th>\n",
       "      <th>actual</th>\n",
       "      <th>Viewing Date</th>\n",
       "      <th>Elevation</th>\n",
       "      <th>ele_rank</th>\n",
       "    </tr>\n",
       "  </thead>\n",
       "  <tbody>\n",
       "    <tr>\n",
       "      <th>0</th>\n",
       "      <td>AK</td>\n",
       "      <td>2012</td>\n",
       "      <td>2012/3/23</td>\n",
       "      <td>3/23</td>\n",
       "      <td>83</td>\n",
       "      <td>580</td>\n",
       "      <td>3</td>\n",
       "    </tr>\n",
       "    <tr>\n",
       "      <th>1</th>\n",
       "      <td>AK</td>\n",
       "      <td>2013</td>\n",
       "      <td>2013/4/11</td>\n",
       "      <td>4/11</td>\n",
       "      <td>101</td>\n",
       "      <td>580</td>\n",
       "      <td>3</td>\n",
       "    </tr>\n",
       "    <tr>\n",
       "      <th>2</th>\n",
       "      <td>AK</td>\n",
       "      <td>2017</td>\n",
       "      <td>2017/3/22</td>\n",
       "      <td>3/22</td>\n",
       "      <td>81</td>\n",
       "      <td>580</td>\n",
       "      <td>3</td>\n",
       "    </tr>\n",
       "    <tr>\n",
       "      <th>3</th>\n",
       "      <td>AK</td>\n",
       "      <td>2018</td>\n",
       "      <td>2018/3/11</td>\n",
       "      <td>3/11</td>\n",
       "      <td>70</td>\n",
       "      <td>580</td>\n",
       "      <td>3</td>\n",
       "    </tr>\n",
       "    <tr>\n",
       "      <th>4</th>\n",
       "      <td>AK</td>\n",
       "      <td>2019</td>\n",
       "      <td>2019/3/16</td>\n",
       "      <td>3/16</td>\n",
       "      <td>75</td>\n",
       "      <td>580</td>\n",
       "      <td>3</td>\n",
       "    </tr>\n",
       "    <tr>\n",
       "      <th>...</th>\n",
       "      <td>...</td>\n",
       "      <td>...</td>\n",
       "      <td>...</td>\n",
       "      <td>...</td>\n",
       "      <td>...</td>\n",
       "      <td>...</td>\n",
       "      <td>...</td>\n",
       "    </tr>\n",
       "    <tr>\n",
       "      <th>503</th>\n",
       "      <td>WY</td>\n",
       "      <td>2013</td>\n",
       "      <td>2013/4/15</td>\n",
       "      <td>4/15</td>\n",
       "      <td>105</td>\n",
       "      <td>2044</td>\n",
       "      <td>4</td>\n",
       "    </tr>\n",
       "    <tr>\n",
       "      <th>504</th>\n",
       "      <td>WY</td>\n",
       "      <td>2015</td>\n",
       "      <td>2015/4/09</td>\n",
       "      <td>4/09</td>\n",
       "      <td>99</td>\n",
       "      <td>2044</td>\n",
       "      <td>4</td>\n",
       "    </tr>\n",
       "    <tr>\n",
       "      <th>505</th>\n",
       "      <td>WY</td>\n",
       "      <td>2016</td>\n",
       "      <td>2016/3/28</td>\n",
       "      <td>3/28</td>\n",
       "      <td>88</td>\n",
       "      <td>2044</td>\n",
       "      <td>4</td>\n",
       "    </tr>\n",
       "    <tr>\n",
       "      <th>506</th>\n",
       "      <td>WY</td>\n",
       "      <td>2018</td>\n",
       "      <td>2018/4/02</td>\n",
       "      <td>4/02</td>\n",
       "      <td>92</td>\n",
       "      <td>2044</td>\n",
       "      <td>4</td>\n",
       "    </tr>\n",
       "    <tr>\n",
       "      <th>507</th>\n",
       "      <td>WY</td>\n",
       "      <td>2020</td>\n",
       "      <td>2020/3/27</td>\n",
       "      <td>3/27</td>\n",
       "      <td>87</td>\n",
       "      <td>2044</td>\n",
       "      <td>4</td>\n",
       "    </tr>\n",
       "  </tbody>\n",
       "</table>\n",
       "<p>508 rows × 7 columns</p>\n",
       "</div>"
      ],
      "text/plain": [
       "    state  year      month actual  Viewing Date  Elevation  ele_rank\n",
       "0      AK  2012  2012/3/23   3/23            83        580         3\n",
       "1      AK  2013  2013/4/11   4/11           101        580         3\n",
       "2      AK  2017  2017/3/22   3/22            81        580         3\n",
       "3      AK  2018  2018/3/11   3/11            70        580         3\n",
       "4      AK  2019  2019/3/16   3/16            75        580         3\n",
       "..    ...   ...        ...    ...           ...        ...       ...\n",
       "503    WY  2013  2013/4/15   4/15           105       2044         4\n",
       "504    WY  2015  2015/4/09   4/09            99       2044         4\n",
       "505    WY  2016  2016/3/28   3/28            88       2044         4\n",
       "506    WY  2018  2018/4/02   4/02            92       2044         4\n",
       "507    WY  2020  2020/3/27   3/27            87       2044         4\n",
       "\n",
       "[508 rows x 7 columns]"
      ]
     },
     "execution_count": 6,
     "metadata": {},
     "output_type": "execute_result"
    }
   ],
   "source": [
    "df"
   ]
  },
  {
   "cell_type": "code",
   "execution_count": 7,
   "id": "a7c44452",
   "metadata": {},
   "outputs": [],
   "source": [
    "before=['5/01']*11\n",
    "after=['3/01']*11"
   ]
  },
  {
   "cell_type": "code",
   "execution_count": 11,
   "id": "e28c44b5",
   "metadata": {},
   "outputs": [],
   "source": [
    "df_5=df\n",
    "for i in range(0,df_5.shape[0]):\n",
    "    temp=df_5.iloc[i,1]-2011\n",
    "    #print(df_1.iloc[i,3],before[temp],after[temp])\n",
    "    if df_5.iloc[i,3]<before[temp]:\n",
    "        before[temp]=df_5.iloc[i,3]\n",
    "    if df_5.iloc[i,3]>after[temp]:\n",
    "        after[temp]=df_5.iloc[i,3]"
   ]
  },
  {
   "cell_type": "code",
   "execution_count": 12,
   "id": "193303dc",
   "metadata": {},
   "outputs": [
    {
     "data": {
      "text/html": [
       "<div>\n",
       "<style scoped>\n",
       "    .dataframe tbody tr th:only-of-type {\n",
       "        vertical-align: middle;\n",
       "    }\n",
       "\n",
       "    .dataframe tbody tr th {\n",
       "        vertical-align: top;\n",
       "    }\n",
       "\n",
       "    .dataframe thead th {\n",
       "        text-align: right;\n",
       "    }\n",
       "</style>\n",
       "<table border=\"1\" class=\"dataframe\">\n",
       "  <thead>\n",
       "    <tr style=\"text-align: right;\">\n",
       "      <th></th>\n",
       "      <th>before</th>\n",
       "      <th>after</th>\n",
       "      <th>year</th>\n",
       "      <th>ele_rank</th>\n",
       "    </tr>\n",
       "  </thead>\n",
       "  <tbody>\n",
       "    <tr>\n",
       "      <th>0</th>\n",
       "      <td>3/13</td>\n",
       "      <td>4/21</td>\n",
       "      <td>2011</td>\n",
       "      <td>0</td>\n",
       "    </tr>\n",
       "    <tr>\n",
       "      <th>1</th>\n",
       "      <td>3/09</td>\n",
       "      <td>4/12</td>\n",
       "      <td>2012</td>\n",
       "      <td>0</td>\n",
       "    </tr>\n",
       "    <tr>\n",
       "      <th>2</th>\n",
       "      <td>3/14</td>\n",
       "      <td>4/15</td>\n",
       "      <td>2013</td>\n",
       "      <td>0</td>\n",
       "    </tr>\n",
       "    <tr>\n",
       "      <th>3</th>\n",
       "      <td>3/11</td>\n",
       "      <td>4/30</td>\n",
       "      <td>2014</td>\n",
       "      <td>0</td>\n",
       "    </tr>\n",
       "    <tr>\n",
       "      <th>4</th>\n",
       "      <td>3/10</td>\n",
       "      <td>4/18</td>\n",
       "      <td>2015</td>\n",
       "      <td>0</td>\n",
       "    </tr>\n",
       "    <tr>\n",
       "      <th>5</th>\n",
       "      <td>3/10</td>\n",
       "      <td>4/14</td>\n",
       "      <td>2016</td>\n",
       "      <td>0</td>\n",
       "    </tr>\n",
       "    <tr>\n",
       "      <th>6</th>\n",
       "      <td>3/10</td>\n",
       "      <td>4/09</td>\n",
       "      <td>2017</td>\n",
       "      <td>0</td>\n",
       "    </tr>\n",
       "    <tr>\n",
       "      <th>7</th>\n",
       "      <td>3/11</td>\n",
       "      <td>4/05</td>\n",
       "      <td>2018</td>\n",
       "      <td>0</td>\n",
       "    </tr>\n",
       "    <tr>\n",
       "      <th>8</th>\n",
       "      <td>3/10</td>\n",
       "      <td>4/11</td>\n",
       "      <td>2019</td>\n",
       "      <td>0</td>\n",
       "    </tr>\n",
       "    <tr>\n",
       "      <th>9</th>\n",
       "      <td>3/03</td>\n",
       "      <td>5/01</td>\n",
       "      <td>2020</td>\n",
       "      <td>0</td>\n",
       "    </tr>\n",
       "    <tr>\n",
       "      <th>10</th>\n",
       "      <td>3/06</td>\n",
       "      <td>4/07</td>\n",
       "      <td>2021</td>\n",
       "      <td>0</td>\n",
       "    </tr>\n",
       "  </tbody>\n",
       "</table>\n",
       "</div>"
      ],
      "text/plain": [
       "   before after  year  ele_rank\n",
       "0    3/13  4/21  2011         0\n",
       "1    3/09  4/12  2012         0\n",
       "2    3/14  4/15  2013         0\n",
       "3    3/11  4/30  2014         0\n",
       "4    3/10  4/18  2015         0\n",
       "5    3/10  4/14  2016         0\n",
       "6    3/10  4/09  2017         0\n",
       "7    3/11  4/05  2018         0\n",
       "8    3/10  4/11  2019         0\n",
       "9    3/03  5/01  2020         0\n",
       "10   3/06  4/07  2021         0"
      ]
     },
     "execution_count": 12,
     "metadata": {},
     "output_type": "execute_result"
    }
   ],
   "source": [
    "dff_5=pd.DataFrame()\n",
    "dff_5['before']=before\n",
    "dff_5['after']=after\n",
    "dff_5['year']=[2011,2012,2013,2014,2015,2016,2017,2018,2019,2020,2021]\n",
    "dff_5['ele_rank']=0\n",
    "dff_5"
   ]
  },
  {
   "cell_type": "code",
   "execution_count": 13,
   "id": "5bba5753",
   "metadata": {},
   "outputs": [
    {
     "data": {
      "text/html": [
       "<div>\n",
       "<style scoped>\n",
       "    .dataframe tbody tr th:only-of-type {\n",
       "        vertical-align: middle;\n",
       "    }\n",
       "\n",
       "    .dataframe tbody tr th {\n",
       "        vertical-align: top;\n",
       "    }\n",
       "\n",
       "    .dataframe thead th {\n",
       "        text-align: right;\n",
       "    }\n",
       "</style>\n",
       "<table border=\"1\" class=\"dataframe\">\n",
       "  <thead>\n",
       "    <tr style=\"text-align: right;\">\n",
       "      <th></th>\n",
       "      <th>state</th>\n",
       "      <th>year</th>\n",
       "      <th>month</th>\n",
       "      <th>actual</th>\n",
       "      <th>Viewing Date</th>\n",
       "      <th>Elevation</th>\n",
       "      <th>ele_rank</th>\n",
       "    </tr>\n",
       "  </thead>\n",
       "  <tbody>\n",
       "    <tr>\n",
       "      <th>0</th>\n",
       "      <td>AK</td>\n",
       "      <td>2012</td>\n",
       "      <td>2012/3/23</td>\n",
       "      <td>3/23</td>\n",
       "      <td>83</td>\n",
       "      <td>580</td>\n",
       "      <td>3</td>\n",
       "    </tr>\n",
       "    <tr>\n",
       "      <th>1</th>\n",
       "      <td>AK</td>\n",
       "      <td>2013</td>\n",
       "      <td>2013/4/11</td>\n",
       "      <td>4/11</td>\n",
       "      <td>101</td>\n",
       "      <td>580</td>\n",
       "      <td>3</td>\n",
       "    </tr>\n",
       "    <tr>\n",
       "      <th>2</th>\n",
       "      <td>AK</td>\n",
       "      <td>2017</td>\n",
       "      <td>2017/3/22</td>\n",
       "      <td>3/22</td>\n",
       "      <td>81</td>\n",
       "      <td>580</td>\n",
       "      <td>3</td>\n",
       "    </tr>\n",
       "    <tr>\n",
       "      <th>3</th>\n",
       "      <td>AK</td>\n",
       "      <td>2018</td>\n",
       "      <td>2018/3/11</td>\n",
       "      <td>3/11</td>\n",
       "      <td>70</td>\n",
       "      <td>580</td>\n",
       "      <td>3</td>\n",
       "    </tr>\n",
       "    <tr>\n",
       "      <th>4</th>\n",
       "      <td>AK</td>\n",
       "      <td>2019</td>\n",
       "      <td>2019/3/16</td>\n",
       "      <td>3/16</td>\n",
       "      <td>75</td>\n",
       "      <td>580</td>\n",
       "      <td>3</td>\n",
       "    </tr>\n",
       "    <tr>\n",
       "      <th>...</th>\n",
       "      <td>...</td>\n",
       "      <td>...</td>\n",
       "      <td>...</td>\n",
       "      <td>...</td>\n",
       "      <td>...</td>\n",
       "      <td>...</td>\n",
       "      <td>...</td>\n",
       "    </tr>\n",
       "    <tr>\n",
       "      <th>503</th>\n",
       "      <td>WY</td>\n",
       "      <td>2013</td>\n",
       "      <td>2013/4/15</td>\n",
       "      <td>4/15</td>\n",
       "      <td>105</td>\n",
       "      <td>2044</td>\n",
       "      <td>4</td>\n",
       "    </tr>\n",
       "    <tr>\n",
       "      <th>504</th>\n",
       "      <td>WY</td>\n",
       "      <td>2015</td>\n",
       "      <td>2015/4/09</td>\n",
       "      <td>4/09</td>\n",
       "      <td>99</td>\n",
       "      <td>2044</td>\n",
       "      <td>4</td>\n",
       "    </tr>\n",
       "    <tr>\n",
       "      <th>505</th>\n",
       "      <td>WY</td>\n",
       "      <td>2016</td>\n",
       "      <td>2016/3/28</td>\n",
       "      <td>3/28</td>\n",
       "      <td>88</td>\n",
       "      <td>2044</td>\n",
       "      <td>4</td>\n",
       "    </tr>\n",
       "    <tr>\n",
       "      <th>506</th>\n",
       "      <td>WY</td>\n",
       "      <td>2018</td>\n",
       "      <td>2018/4/02</td>\n",
       "      <td>4/02</td>\n",
       "      <td>92</td>\n",
       "      <td>2044</td>\n",
       "      <td>4</td>\n",
       "    </tr>\n",
       "    <tr>\n",
       "      <th>507</th>\n",
       "      <td>WY</td>\n",
       "      <td>2020</td>\n",
       "      <td>2020/3/27</td>\n",
       "      <td>3/27</td>\n",
       "      <td>87</td>\n",
       "      <td>2044</td>\n",
       "      <td>4</td>\n",
       "    </tr>\n",
       "  </tbody>\n",
       "</table>\n",
       "<p>508 rows × 7 columns</p>\n",
       "</div>"
      ],
      "text/plain": [
       "    state  year      month actual  Viewing Date  Elevation  ele_rank\n",
       "0      AK  2012  2012/3/23   3/23            83        580         3\n",
       "1      AK  2013  2013/4/11   4/11           101        580         3\n",
       "2      AK  2017  2017/3/22   3/22            81        580         3\n",
       "3      AK  2018  2018/3/11   3/11            70        580         3\n",
       "4      AK  2019  2019/3/16   3/16            75        580         3\n",
       "..    ...   ...        ...    ...           ...        ...       ...\n",
       "503    WY  2013  2013/4/15   4/15           105       2044         4\n",
       "504    WY  2015  2015/4/09   4/09            99       2044         4\n",
       "505    WY  2016  2016/3/28   3/28            88       2044         4\n",
       "506    WY  2018  2018/4/02   4/02            92       2044         4\n",
       "507    WY  2020  2020/3/27   3/27            87       2044         4\n",
       "\n",
       "[508 rows x 7 columns]"
      ]
     },
     "execution_count": 13,
     "metadata": {},
     "output_type": "execute_result"
    }
   ],
   "source": [
    "df"
   ]
  },
  {
   "cell_type": "code",
   "execution_count": 14,
   "id": "26dff6d2",
   "metadata": {},
   "outputs": [
    {
     "data": {
      "text/html": [
       "<div>\n",
       "<style scoped>\n",
       "    .dataframe tbody tr th:only-of-type {\n",
       "        vertical-align: middle;\n",
       "    }\n",
       "\n",
       "    .dataframe tbody tr th {\n",
       "        vertical-align: top;\n",
       "    }\n",
       "\n",
       "    .dataframe thead th {\n",
       "        text-align: right;\n",
       "    }\n",
       "</style>\n",
       "<table border=\"1\" class=\"dataframe\">\n",
       "  <thead>\n",
       "    <tr style=\"text-align: right;\">\n",
       "      <th></th>\n",
       "      <th>state</th>\n",
       "      <th>year</th>\n",
       "      <th>month</th>\n",
       "      <th>actual</th>\n",
       "      <th>Viewing Date</th>\n",
       "      <th>Elevation</th>\n",
       "      <th>ele_rank</th>\n",
       "    </tr>\n",
       "  </thead>\n",
       "  <tbody>\n",
       "    <tr>\n",
       "      <th>5</th>\n",
       "      <td>AL</td>\n",
       "      <td>2011</td>\n",
       "      <td>2011/3/17</td>\n",
       "      <td>3/17</td>\n",
       "      <td>76</td>\n",
       "      <td>153</td>\n",
       "      <td>1</td>\n",
       "    </tr>\n",
       "    <tr>\n",
       "      <th>6</th>\n",
       "      <td>AL</td>\n",
       "      <td>2012</td>\n",
       "      <td>2012/3/16</td>\n",
       "      <td>3/16</td>\n",
       "      <td>76</td>\n",
       "      <td>153</td>\n",
       "      <td>1</td>\n",
       "    </tr>\n",
       "    <tr>\n",
       "      <th>7</th>\n",
       "      <td>AL</td>\n",
       "      <td>2013</td>\n",
       "      <td>2013/3/23</td>\n",
       "      <td>3/23</td>\n",
       "      <td>82</td>\n",
       "      <td>153</td>\n",
       "      <td>1</td>\n",
       "    </tr>\n",
       "    <tr>\n",
       "      <th>8</th>\n",
       "      <td>AL</td>\n",
       "      <td>2014</td>\n",
       "      <td>2014/3/25</td>\n",
       "      <td>3/25</td>\n",
       "      <td>84</td>\n",
       "      <td>153</td>\n",
       "      <td>1</td>\n",
       "    </tr>\n",
       "    <tr>\n",
       "      <th>9</th>\n",
       "      <td>AL</td>\n",
       "      <td>2015</td>\n",
       "      <td>2015/3/27</td>\n",
       "      <td>3/27</td>\n",
       "      <td>86</td>\n",
       "      <td>153</td>\n",
       "      <td>1</td>\n",
       "    </tr>\n",
       "    <tr>\n",
       "      <th>...</th>\n",
       "      <td>...</td>\n",
       "      <td>...</td>\n",
       "      <td>...</td>\n",
       "      <td>...</td>\n",
       "      <td>...</td>\n",
       "      <td>...</td>\n",
       "      <td>...</td>\n",
       "    </tr>\n",
       "    <tr>\n",
       "      <th>410</th>\n",
       "      <td>SC</td>\n",
       "      <td>2016</td>\n",
       "      <td>2016/3/23</td>\n",
       "      <td>3/23</td>\n",
       "      <td>83</td>\n",
       "      <td>107</td>\n",
       "      <td>1</td>\n",
       "    </tr>\n",
       "    <tr>\n",
       "      <th>411</th>\n",
       "      <td>SC</td>\n",
       "      <td>2017</td>\n",
       "      <td>2017/3/21</td>\n",
       "      <td>3/21</td>\n",
       "      <td>80</td>\n",
       "      <td>107</td>\n",
       "      <td>1</td>\n",
       "    </tr>\n",
       "    <tr>\n",
       "      <th>412</th>\n",
       "      <td>SC</td>\n",
       "      <td>2018</td>\n",
       "      <td>2018/3/25</td>\n",
       "      <td>3/25</td>\n",
       "      <td>84</td>\n",
       "      <td>107</td>\n",
       "      <td>1</td>\n",
       "    </tr>\n",
       "    <tr>\n",
       "      <th>413</th>\n",
       "      <td>SC</td>\n",
       "      <td>2019</td>\n",
       "      <td>2019/3/20</td>\n",
       "      <td>3/20</td>\n",
       "      <td>79</td>\n",
       "      <td>107</td>\n",
       "      <td>1</td>\n",
       "    </tr>\n",
       "    <tr>\n",
       "      <th>414</th>\n",
       "      <td>SC</td>\n",
       "      <td>2020</td>\n",
       "      <td>2020/3/17</td>\n",
       "      <td>3/17</td>\n",
       "      <td>77</td>\n",
       "      <td>107</td>\n",
       "      <td>1</td>\n",
       "    </tr>\n",
       "  </tbody>\n",
       "</table>\n",
       "<p>153 rows × 7 columns</p>\n",
       "</div>"
      ],
      "text/plain": [
       "    state  year      month actual  Viewing Date  Elevation  ele_rank\n",
       "5      AL  2011  2011/3/17   3/17            76        153         1\n",
       "6      AL  2012  2012/3/16   3/16            76        153         1\n",
       "7      AL  2013  2013/3/23   3/23            82        153         1\n",
       "8      AL  2014  2014/3/25   3/25            84        153         1\n",
       "9      AL  2015  2015/3/27   3/27            86        153         1\n",
       "..    ...   ...        ...    ...           ...        ...       ...\n",
       "410    SC  2016  2016/3/23   3/23            83        107         1\n",
       "411    SC  2017  2017/3/21   3/21            80        107         1\n",
       "412    SC  2018  2018/3/25   3/25            84        107         1\n",
       "413    SC  2019  2019/3/20   3/20            79        107         1\n",
       "414    SC  2020  2020/3/17   3/17            77        107         1\n",
       "\n",
       "[153 rows x 7 columns]"
      ]
     },
     "execution_count": 14,
     "metadata": {},
     "output_type": "execute_result"
    }
   ],
   "source": [
    "df_1=df[df['ele_rank']==1]\n",
    "df_1"
   ]
  },
  {
   "cell_type": "code",
   "execution_count": 15,
   "id": "bb813021",
   "metadata": {},
   "outputs": [],
   "source": [
    "before=['5/01']*11\n",
    "after=['3/01']*11"
   ]
  },
  {
   "cell_type": "code",
   "execution_count": 16,
   "id": "43ab42ea",
   "metadata": {},
   "outputs": [],
   "source": [
    "for i in range(0,df_1.shape[0]):\n",
    "    temp=df_1.iloc[i,1]-2011\n",
    "    #print(df_1.iloc[i,3],before[temp],after[temp])\n",
    "    if df_1.iloc[i,3]<before[temp]:\n",
    "        before[temp]=df_1.iloc[i,3]\n",
    "    if df_1.iloc[i,3]>after[temp]:\n",
    "        after[temp]=df_1.iloc[i,3]"
   ]
  },
  {
   "cell_type": "code",
   "execution_count": 17,
   "id": "83fb2775",
   "metadata": {},
   "outputs": [
    {
     "data": {
      "text/plain": [
       "['3/13',\n",
       " '3/09',\n",
       " '3/15',\n",
       " '3/16',\n",
       " '3/17',\n",
       " '3/10',\n",
       " '3/10',\n",
       " '3/13',\n",
       " '3/10',\n",
       " '3/03',\n",
       " '3/09']"
      ]
     },
     "execution_count": 17,
     "metadata": {},
     "output_type": "execute_result"
    }
   ],
   "source": [
    "before"
   ]
  },
  {
   "cell_type": "code",
   "execution_count": 18,
   "id": "220ca4d2",
   "metadata": {},
   "outputs": [
    {
     "data": {
      "text/plain": [
       "['4/09',\n",
       " '4/06',\n",
       " '4/15',\n",
       " '4/30',\n",
       " '4/18',\n",
       " '4/09',\n",
       " '4/07',\n",
       " '4/02',\n",
       " '4/01',\n",
       " '3/24',\n",
       " '3/30']"
      ]
     },
     "execution_count": 18,
     "metadata": {},
     "output_type": "execute_result"
    }
   ],
   "source": [
    "after"
   ]
  },
  {
   "cell_type": "code",
   "execution_count": 19,
   "id": "abfc903e",
   "metadata": {},
   "outputs": [
    {
     "data": {
      "text/html": [
       "<div>\n",
       "<style scoped>\n",
       "    .dataframe tbody tr th:only-of-type {\n",
       "        vertical-align: middle;\n",
       "    }\n",
       "\n",
       "    .dataframe tbody tr th {\n",
       "        vertical-align: top;\n",
       "    }\n",
       "\n",
       "    .dataframe thead th {\n",
       "        text-align: right;\n",
       "    }\n",
       "</style>\n",
       "<table border=\"1\" class=\"dataframe\">\n",
       "  <thead>\n",
       "    <tr style=\"text-align: right;\">\n",
       "      <th></th>\n",
       "      <th>before</th>\n",
       "      <th>after</th>\n",
       "      <th>year</th>\n",
       "      <th>ele_rank</th>\n",
       "    </tr>\n",
       "  </thead>\n",
       "  <tbody>\n",
       "    <tr>\n",
       "      <th>0</th>\n",
       "      <td>3/13</td>\n",
       "      <td>4/09</td>\n",
       "      <td>2011</td>\n",
       "      <td>1</td>\n",
       "    </tr>\n",
       "    <tr>\n",
       "      <th>1</th>\n",
       "      <td>3/09</td>\n",
       "      <td>4/06</td>\n",
       "      <td>2012</td>\n",
       "      <td>1</td>\n",
       "    </tr>\n",
       "    <tr>\n",
       "      <th>2</th>\n",
       "      <td>3/15</td>\n",
       "      <td>4/15</td>\n",
       "      <td>2013</td>\n",
       "      <td>1</td>\n",
       "    </tr>\n",
       "    <tr>\n",
       "      <th>3</th>\n",
       "      <td>3/16</td>\n",
       "      <td>4/30</td>\n",
       "      <td>2014</td>\n",
       "      <td>1</td>\n",
       "    </tr>\n",
       "    <tr>\n",
       "      <th>4</th>\n",
       "      <td>3/17</td>\n",
       "      <td>4/18</td>\n",
       "      <td>2015</td>\n",
       "      <td>1</td>\n",
       "    </tr>\n",
       "    <tr>\n",
       "      <th>5</th>\n",
       "      <td>3/10</td>\n",
       "      <td>4/09</td>\n",
       "      <td>2016</td>\n",
       "      <td>1</td>\n",
       "    </tr>\n",
       "    <tr>\n",
       "      <th>6</th>\n",
       "      <td>3/10</td>\n",
       "      <td>4/07</td>\n",
       "      <td>2017</td>\n",
       "      <td>1</td>\n",
       "    </tr>\n",
       "    <tr>\n",
       "      <th>7</th>\n",
       "      <td>3/13</td>\n",
       "      <td>4/02</td>\n",
       "      <td>2018</td>\n",
       "      <td>1</td>\n",
       "    </tr>\n",
       "    <tr>\n",
       "      <th>8</th>\n",
       "      <td>3/10</td>\n",
       "      <td>4/01</td>\n",
       "      <td>2019</td>\n",
       "      <td>1</td>\n",
       "    </tr>\n",
       "    <tr>\n",
       "      <th>9</th>\n",
       "      <td>3/03</td>\n",
       "      <td>3/24</td>\n",
       "      <td>2020</td>\n",
       "      <td>1</td>\n",
       "    </tr>\n",
       "    <tr>\n",
       "      <th>10</th>\n",
       "      <td>3/09</td>\n",
       "      <td>3/30</td>\n",
       "      <td>2021</td>\n",
       "      <td>1</td>\n",
       "    </tr>\n",
       "  </tbody>\n",
       "</table>\n",
       "</div>"
      ],
      "text/plain": [
       "   before after  year  ele_rank\n",
       "0    3/13  4/09  2011         1\n",
       "1    3/09  4/06  2012         1\n",
       "2    3/15  4/15  2013         1\n",
       "3    3/16  4/30  2014         1\n",
       "4    3/17  4/18  2015         1\n",
       "5    3/10  4/09  2016         1\n",
       "6    3/10  4/07  2017         1\n",
       "7    3/13  4/02  2018         1\n",
       "8    3/10  4/01  2019         1\n",
       "9    3/03  3/24  2020         1\n",
       "10   3/09  3/30  2021         1"
      ]
     },
     "execution_count": 19,
     "metadata": {},
     "output_type": "execute_result"
    }
   ],
   "source": [
    "dff_1=pd.DataFrame()\n",
    "dff_1['before']=before\n",
    "dff_1['after']=after\n",
    "dff_1['year']=[2011,2012,2013,2014,2015,2016,2017,2018,2019,2020,2021]\n",
    "dff_1['ele_rank']=1\n",
    "dff_1"
   ]
  },
  {
   "cell_type": "code",
   "execution_count": 20,
   "id": "31c63c62",
   "metadata": {},
   "outputs": [
    {
     "data": {
      "text/html": [
       "<div>\n",
       "<style scoped>\n",
       "    .dataframe tbody tr th:only-of-type {\n",
       "        vertical-align: middle;\n",
       "    }\n",
       "\n",
       "    .dataframe tbody tr th {\n",
       "        vertical-align: top;\n",
       "    }\n",
       "\n",
       "    .dataframe thead th {\n",
       "        text-align: right;\n",
       "    }\n",
       "</style>\n",
       "<table border=\"1\" class=\"dataframe\">\n",
       "  <thead>\n",
       "    <tr style=\"text-align: right;\">\n",
       "      <th></th>\n",
       "      <th>state</th>\n",
       "      <th>year</th>\n",
       "      <th>month</th>\n",
       "      <th>actual</th>\n",
       "      <th>Viewing Date</th>\n",
       "      <th>Elevation</th>\n",
       "      <th>ele_rank</th>\n",
       "    </tr>\n",
       "  </thead>\n",
       "  <tbody>\n",
       "    <tr>\n",
       "      <th>119</th>\n",
       "      <td>IA</td>\n",
       "      <td>2011</td>\n",
       "      <td>2011/4/07</td>\n",
       "      <td>4/07</td>\n",
       "      <td>97</td>\n",
       "      <td>336</td>\n",
       "      <td>2</td>\n",
       "    </tr>\n",
       "    <tr>\n",
       "      <th>120</th>\n",
       "      <td>IA</td>\n",
       "      <td>2012</td>\n",
       "      <td>2012/4/02</td>\n",
       "      <td>4/02</td>\n",
       "      <td>93</td>\n",
       "      <td>336</td>\n",
       "      <td>2</td>\n",
       "    </tr>\n",
       "    <tr>\n",
       "      <th>121</th>\n",
       "      <td>IA</td>\n",
       "      <td>2013</td>\n",
       "      <td>2013/3/31</td>\n",
       "      <td>3/31</td>\n",
       "      <td>90</td>\n",
       "      <td>336</td>\n",
       "      <td>2</td>\n",
       "    </tr>\n",
       "    <tr>\n",
       "      <th>122</th>\n",
       "      <td>IA</td>\n",
       "      <td>2014</td>\n",
       "      <td>2014/3/30</td>\n",
       "      <td>3/30</td>\n",
       "      <td>89</td>\n",
       "      <td>336</td>\n",
       "      <td>2</td>\n",
       "    </tr>\n",
       "    <tr>\n",
       "      <th>123</th>\n",
       "      <td>IA</td>\n",
       "      <td>2015</td>\n",
       "      <td>2015/4/08</td>\n",
       "      <td>4/08</td>\n",
       "      <td>98</td>\n",
       "      <td>336</td>\n",
       "      <td>2</td>\n",
       "    </tr>\n",
       "    <tr>\n",
       "      <th>...</th>\n",
       "      <td>...</td>\n",
       "      <td>...</td>\n",
       "      <td>...</td>\n",
       "      <td>...</td>\n",
       "      <td>...</td>\n",
       "      <td>...</td>\n",
       "      <td>...</td>\n",
       "    </tr>\n",
       "    <tr>\n",
       "      <th>490</th>\n",
       "      <td>WI</td>\n",
       "      <td>2016</td>\n",
       "      <td>2016/3/22</td>\n",
       "      <td>3/22</td>\n",
       "      <td>82</td>\n",
       "      <td>320</td>\n",
       "      <td>2</td>\n",
       "    </tr>\n",
       "    <tr>\n",
       "      <th>491</th>\n",
       "      <td>WI</td>\n",
       "      <td>2017</td>\n",
       "      <td>2017/3/26</td>\n",
       "      <td>3/26</td>\n",
       "      <td>85</td>\n",
       "      <td>320</td>\n",
       "      <td>2</td>\n",
       "    </tr>\n",
       "    <tr>\n",
       "      <th>492</th>\n",
       "      <td>WI</td>\n",
       "      <td>2019</td>\n",
       "      <td>2019/3/29</td>\n",
       "      <td>3/29</td>\n",
       "      <td>88</td>\n",
       "      <td>320</td>\n",
       "      <td>2</td>\n",
       "    </tr>\n",
       "    <tr>\n",
       "      <th>493</th>\n",
       "      <td>WI</td>\n",
       "      <td>2020</td>\n",
       "      <td>2020/3/25</td>\n",
       "      <td>3/25</td>\n",
       "      <td>85</td>\n",
       "      <td>320</td>\n",
       "      <td>2</td>\n",
       "    </tr>\n",
       "    <tr>\n",
       "      <th>494</th>\n",
       "      <td>WI</td>\n",
       "      <td>2021</td>\n",
       "      <td>2021/3/28</td>\n",
       "      <td>3/28</td>\n",
       "      <td>87</td>\n",
       "      <td>320</td>\n",
       "      <td>2</td>\n",
       "    </tr>\n",
       "  </tbody>\n",
       "</table>\n",
       "<p>153 rows × 7 columns</p>\n",
       "</div>"
      ],
      "text/plain": [
       "    state  year      month actual  Viewing Date  Elevation  ele_rank\n",
       "119    IA  2011  2011/4/07   4/07            97        336         2\n",
       "120    IA  2012  2012/4/02   4/02            93        336         2\n",
       "121    IA  2013  2013/3/31   3/31            90        336         2\n",
       "122    IA  2014  2014/3/30   3/30            89        336         2\n",
       "123    IA  2015  2015/4/08   4/08            98        336         2\n",
       "..    ...   ...        ...    ...           ...        ...       ...\n",
       "490    WI  2016  2016/3/22   3/22            82        320         2\n",
       "491    WI  2017  2017/3/26   3/26            85        320         2\n",
       "492    WI  2019  2019/3/29   3/29            88        320         2\n",
       "493    WI  2020  2020/3/25   3/25            85        320         2\n",
       "494    WI  2021  2021/3/28   3/28            87        320         2\n",
       "\n",
       "[153 rows x 7 columns]"
      ]
     },
     "execution_count": 20,
     "metadata": {},
     "output_type": "execute_result"
    }
   ],
   "source": [
    "df_2=df[df['ele_rank']==2]\n",
    "df_2"
   ]
  },
  {
   "cell_type": "code",
   "execution_count": 21,
   "id": "6f0621d5",
   "metadata": {},
   "outputs": [],
   "source": [
    "before=['5/01']*11\n",
    "after=['3/01']*11"
   ]
  },
  {
   "cell_type": "code",
   "execution_count": 22,
   "id": "089446cf",
   "metadata": {},
   "outputs": [],
   "source": [
    "for i in range(0,df_2.shape[0]):\n",
    "    temp=df_2.iloc[i,1]-2011\n",
    "    #print(df_1.iloc[i,3],before[temp],after[temp])\n",
    "    if df_2.iloc[i,3]<before[temp]:\n",
    "        before[temp]=df_2.iloc[i,3]\n",
    "    if df_2.iloc[i,3]>after[temp]:\n",
    "        after[temp]=df_2.iloc[i,3]"
   ]
  },
  {
   "cell_type": "code",
   "execution_count": 23,
   "id": "5753b3a7",
   "metadata": {},
   "outputs": [
    {
     "data": {
      "text/html": [
       "<div>\n",
       "<style scoped>\n",
       "    .dataframe tbody tr th:only-of-type {\n",
       "        vertical-align: middle;\n",
       "    }\n",
       "\n",
       "    .dataframe tbody tr th {\n",
       "        vertical-align: top;\n",
       "    }\n",
       "\n",
       "    .dataframe thead th {\n",
       "        text-align: right;\n",
       "    }\n",
       "</style>\n",
       "<table border=\"1\" class=\"dataframe\">\n",
       "  <thead>\n",
       "    <tr style=\"text-align: right;\">\n",
       "      <th></th>\n",
       "      <th>before</th>\n",
       "      <th>after</th>\n",
       "      <th>year</th>\n",
       "      <th>ele_rank</th>\n",
       "    </tr>\n",
       "  </thead>\n",
       "  <tbody>\n",
       "    <tr>\n",
       "      <th>0</th>\n",
       "      <td>3/18</td>\n",
       "      <td>4/21</td>\n",
       "      <td>2011</td>\n",
       "      <td>2</td>\n",
       "    </tr>\n",
       "    <tr>\n",
       "      <th>1</th>\n",
       "      <td>3/17</td>\n",
       "      <td>4/09</td>\n",
       "      <td>2012</td>\n",
       "      <td>2</td>\n",
       "    </tr>\n",
       "    <tr>\n",
       "      <th>2</th>\n",
       "      <td>3/17</td>\n",
       "      <td>4/07</td>\n",
       "      <td>2013</td>\n",
       "      <td>2</td>\n",
       "    </tr>\n",
       "    <tr>\n",
       "      <th>3</th>\n",
       "      <td>3/16</td>\n",
       "      <td>4/04</td>\n",
       "      <td>2014</td>\n",
       "      <td>2</td>\n",
       "    </tr>\n",
       "    <tr>\n",
       "      <th>4</th>\n",
       "      <td>3/16</td>\n",
       "      <td>4/16</td>\n",
       "      <td>2015</td>\n",
       "      <td>2</td>\n",
       "    </tr>\n",
       "    <tr>\n",
       "      <th>5</th>\n",
       "      <td>3/14</td>\n",
       "      <td>4/10</td>\n",
       "      <td>2016</td>\n",
       "      <td>2</td>\n",
       "    </tr>\n",
       "    <tr>\n",
       "      <th>6</th>\n",
       "      <td>3/12</td>\n",
       "      <td>4/09</td>\n",
       "      <td>2017</td>\n",
       "      <td>2</td>\n",
       "    </tr>\n",
       "    <tr>\n",
       "      <th>7</th>\n",
       "      <td>3/15</td>\n",
       "      <td>4/05</td>\n",
       "      <td>2018</td>\n",
       "      <td>2</td>\n",
       "    </tr>\n",
       "    <tr>\n",
       "      <th>8</th>\n",
       "      <td>3/15</td>\n",
       "      <td>4/02</td>\n",
       "      <td>2019</td>\n",
       "      <td>2</td>\n",
       "    </tr>\n",
       "    <tr>\n",
       "      <th>9</th>\n",
       "      <td>3/14</td>\n",
       "      <td>5/01</td>\n",
       "      <td>2020</td>\n",
       "      <td>2</td>\n",
       "    </tr>\n",
       "    <tr>\n",
       "      <th>10</th>\n",
       "      <td>3/13</td>\n",
       "      <td>4/03</td>\n",
       "      <td>2021</td>\n",
       "      <td>2</td>\n",
       "    </tr>\n",
       "  </tbody>\n",
       "</table>\n",
       "</div>"
      ],
      "text/plain": [
       "   before after  year  ele_rank\n",
       "0    3/18  4/21  2011         2\n",
       "1    3/17  4/09  2012         2\n",
       "2    3/17  4/07  2013         2\n",
       "3    3/16  4/04  2014         2\n",
       "4    3/16  4/16  2015         2\n",
       "5    3/14  4/10  2016         2\n",
       "6    3/12  4/09  2017         2\n",
       "7    3/15  4/05  2018         2\n",
       "8    3/15  4/02  2019         2\n",
       "9    3/14  5/01  2020         2\n",
       "10   3/13  4/03  2021         2"
      ]
     },
     "execution_count": 23,
     "metadata": {},
     "output_type": "execute_result"
    }
   ],
   "source": [
    "dff_2=pd.DataFrame()\n",
    "dff_2['before']=before\n",
    "dff_2['after']=after\n",
    "dff_2['year']=[2011,2012,2013,2014,2015,2016,2017,2018,2019,2020,2021]\n",
    "dff_2['ele_rank']=2\n",
    "dff_2"
   ]
  },
  {
   "cell_type": "code",
   "execution_count": 24,
   "id": "f8414bd3",
   "metadata": {},
   "outputs": [
    {
     "data": {
      "text/html": [
       "<div>\n",
       "<style scoped>\n",
       "    .dataframe tbody tr th:only-of-type {\n",
       "        vertical-align: middle;\n",
       "    }\n",
       "\n",
       "    .dataframe tbody tr th {\n",
       "        vertical-align: top;\n",
       "    }\n",
       "\n",
       "    .dataframe thead th {\n",
       "        text-align: right;\n",
       "    }\n",
       "</style>\n",
       "<table border=\"1\" class=\"dataframe\">\n",
       "  <thead>\n",
       "    <tr style=\"text-align: right;\">\n",
       "      <th></th>\n",
       "      <th>state</th>\n",
       "      <th>year</th>\n",
       "      <th>month</th>\n",
       "      <th>actual</th>\n",
       "      <th>Viewing Date</th>\n",
       "      <th>Elevation</th>\n",
       "      <th>ele_rank</th>\n",
       "    </tr>\n",
       "  </thead>\n",
       "  <tbody>\n",
       "    <tr>\n",
       "      <th>0</th>\n",
       "      <td>AK</td>\n",
       "      <td>2012</td>\n",
       "      <td>2012/3/23</td>\n",
       "      <td>3/23</td>\n",
       "      <td>83</td>\n",
       "      <td>580</td>\n",
       "      <td>3</td>\n",
       "    </tr>\n",
       "    <tr>\n",
       "      <th>1</th>\n",
       "      <td>AK</td>\n",
       "      <td>2013</td>\n",
       "      <td>2013/4/11</td>\n",
       "      <td>4/11</td>\n",
       "      <td>101</td>\n",
       "      <td>580</td>\n",
       "      <td>3</td>\n",
       "    </tr>\n",
       "    <tr>\n",
       "      <th>2</th>\n",
       "      <td>AK</td>\n",
       "      <td>2017</td>\n",
       "      <td>2017/3/22</td>\n",
       "      <td>3/22</td>\n",
       "      <td>81</td>\n",
       "      <td>580</td>\n",
       "      <td>3</td>\n",
       "    </tr>\n",
       "    <tr>\n",
       "      <th>3</th>\n",
       "      <td>AK</td>\n",
       "      <td>2018</td>\n",
       "      <td>2018/3/11</td>\n",
       "      <td>3/11</td>\n",
       "      <td>70</td>\n",
       "      <td>580</td>\n",
       "      <td>3</td>\n",
       "    </tr>\n",
       "    <tr>\n",
       "      <th>4</th>\n",
       "      <td>AK</td>\n",
       "      <td>2019</td>\n",
       "      <td>2019/3/16</td>\n",
       "      <td>3/16</td>\n",
       "      <td>75</td>\n",
       "      <td>580</td>\n",
       "      <td>3</td>\n",
       "    </tr>\n",
       "    <tr>\n",
       "      <th>...</th>\n",
       "      <td>...</td>\n",
       "      <td>...</td>\n",
       "      <td>...</td>\n",
       "      <td>...</td>\n",
       "      <td>...</td>\n",
       "      <td>...</td>\n",
       "      <td>...</td>\n",
       "    </tr>\n",
       "    <tr>\n",
       "      <th>498</th>\n",
       "      <td>WV</td>\n",
       "      <td>2017</td>\n",
       "      <td>2017/3/26</td>\n",
       "      <td>3/26</td>\n",
       "      <td>85</td>\n",
       "      <td>458</td>\n",
       "      <td>3</td>\n",
       "    </tr>\n",
       "    <tr>\n",
       "      <th>499</th>\n",
       "      <td>WV</td>\n",
       "      <td>2018</td>\n",
       "      <td>2018/3/25</td>\n",
       "      <td>3/25</td>\n",
       "      <td>84</td>\n",
       "      <td>458</td>\n",
       "      <td>3</td>\n",
       "    </tr>\n",
       "    <tr>\n",
       "      <th>500</th>\n",
       "      <td>WV</td>\n",
       "      <td>2019</td>\n",
       "      <td>2019/3/30</td>\n",
       "      <td>3/30</td>\n",
       "      <td>89</td>\n",
       "      <td>458</td>\n",
       "      <td>3</td>\n",
       "    </tr>\n",
       "    <tr>\n",
       "      <th>501</th>\n",
       "      <td>WV</td>\n",
       "      <td>2020</td>\n",
       "      <td>2020/3/23</td>\n",
       "      <td>3/23</td>\n",
       "      <td>83</td>\n",
       "      <td>458</td>\n",
       "      <td>3</td>\n",
       "    </tr>\n",
       "    <tr>\n",
       "      <th>502</th>\n",
       "      <td>WV</td>\n",
       "      <td>2021</td>\n",
       "      <td>2021/3/17</td>\n",
       "      <td>3/17</td>\n",
       "      <td>76</td>\n",
       "      <td>458</td>\n",
       "      <td>3</td>\n",
       "    </tr>\n",
       "  </tbody>\n",
       "</table>\n",
       "<p>113 rows × 7 columns</p>\n",
       "</div>"
      ],
      "text/plain": [
       "    state  year      month actual  Viewing Date  Elevation  ele_rank\n",
       "0      AK  2012  2012/3/23   3/23            83        580         3\n",
       "1      AK  2013  2013/4/11   4/11           101        580         3\n",
       "2      AK  2017  2017/3/22   3/22            81        580         3\n",
       "3      AK  2018  2018/3/11   3/11            70        580         3\n",
       "4      AK  2019  2019/3/16   3/16            75        580         3\n",
       "..    ...   ...        ...    ...           ...        ...       ...\n",
       "498    WV  2017  2017/3/26   3/26            85        458         3\n",
       "499    WV  2018  2018/3/25   3/25            84        458         3\n",
       "500    WV  2019  2019/3/30   3/30            89        458         3\n",
       "501    WV  2020  2020/3/23   3/23            83        458         3\n",
       "502    WV  2021  2021/3/17   3/17            76        458         3\n",
       "\n",
       "[113 rows x 7 columns]"
      ]
     },
     "execution_count": 24,
     "metadata": {},
     "output_type": "execute_result"
    }
   ],
   "source": [
    "df_3=df[df['ele_rank']==3]\n",
    "df_3"
   ]
  },
  {
   "cell_type": "code",
   "execution_count": 25,
   "id": "0365da97",
   "metadata": {},
   "outputs": [],
   "source": [
    "before=['5/01']*11\n",
    "after=['3/01']*11"
   ]
  },
  {
   "cell_type": "code",
   "execution_count": 26,
   "id": "cd158749",
   "metadata": {},
   "outputs": [],
   "source": [
    "for i in range(0,df_3.shape[0]):\n",
    "    temp=df_3.iloc[i,1]-2011\n",
    "    #print(df_1.iloc[i,3],before[temp],after[temp])\n",
    "    if df_3.iloc[i,3]<before[temp]:\n",
    "        before[temp]=df_3.iloc[i,3]\n",
    "    if df_3.iloc[i,3]>after[temp]:\n",
    "        after[temp]=df_3.iloc[i,3]"
   ]
  },
  {
   "cell_type": "code",
   "execution_count": 27,
   "id": "4ac50b1e",
   "metadata": {},
   "outputs": [
    {
     "data": {
      "text/html": [
       "<div>\n",
       "<style scoped>\n",
       "    .dataframe tbody tr th:only-of-type {\n",
       "        vertical-align: middle;\n",
       "    }\n",
       "\n",
       "    .dataframe tbody tr th {\n",
       "        vertical-align: top;\n",
       "    }\n",
       "\n",
       "    .dataframe thead th {\n",
       "        text-align: right;\n",
       "    }\n",
       "</style>\n",
       "<table border=\"1\" class=\"dataframe\">\n",
       "  <thead>\n",
       "    <tr style=\"text-align: right;\">\n",
       "      <th></th>\n",
       "      <th>before</th>\n",
       "      <th>after</th>\n",
       "      <th>year</th>\n",
       "      <th>ele_rank</th>\n",
       "    </tr>\n",
       "  </thead>\n",
       "  <tbody>\n",
       "    <tr>\n",
       "      <th>0</th>\n",
       "      <td>3/17</td>\n",
       "      <td>4/10</td>\n",
       "      <td>2011</td>\n",
       "      <td>3</td>\n",
       "    </tr>\n",
       "    <tr>\n",
       "      <th>1</th>\n",
       "      <td>3/15</td>\n",
       "      <td>4/09</td>\n",
       "      <td>2012</td>\n",
       "      <td>3</td>\n",
       "    </tr>\n",
       "    <tr>\n",
       "      <th>2</th>\n",
       "      <td>3/14</td>\n",
       "      <td>4/14</td>\n",
       "      <td>2013</td>\n",
       "      <td>3</td>\n",
       "    </tr>\n",
       "    <tr>\n",
       "      <th>3</th>\n",
       "      <td>3/11</td>\n",
       "      <td>4/10</td>\n",
       "      <td>2014</td>\n",
       "      <td>3</td>\n",
       "    </tr>\n",
       "    <tr>\n",
       "      <th>4</th>\n",
       "      <td>3/10</td>\n",
       "      <td>4/08</td>\n",
       "      <td>2015</td>\n",
       "      <td>3</td>\n",
       "    </tr>\n",
       "    <tr>\n",
       "      <th>5</th>\n",
       "      <td>3/14</td>\n",
       "      <td>4/02</td>\n",
       "      <td>2016</td>\n",
       "      <td>3</td>\n",
       "    </tr>\n",
       "    <tr>\n",
       "      <th>6</th>\n",
       "      <td>3/14</td>\n",
       "      <td>4/04</td>\n",
       "      <td>2017</td>\n",
       "      <td>3</td>\n",
       "    </tr>\n",
       "    <tr>\n",
       "      <th>7</th>\n",
       "      <td>3/11</td>\n",
       "      <td>4/01</td>\n",
       "      <td>2018</td>\n",
       "      <td>3</td>\n",
       "    </tr>\n",
       "    <tr>\n",
       "      <th>8</th>\n",
       "      <td>3/11</td>\n",
       "      <td>4/08</td>\n",
       "      <td>2019</td>\n",
       "      <td>3</td>\n",
       "    </tr>\n",
       "    <tr>\n",
       "      <th>9</th>\n",
       "      <td>3/11</td>\n",
       "      <td>4/12</td>\n",
       "      <td>2020</td>\n",
       "      <td>3</td>\n",
       "    </tr>\n",
       "    <tr>\n",
       "      <th>10</th>\n",
       "      <td>3/10</td>\n",
       "      <td>3/29</td>\n",
       "      <td>2021</td>\n",
       "      <td>3</td>\n",
       "    </tr>\n",
       "  </tbody>\n",
       "</table>\n",
       "</div>"
      ],
      "text/plain": [
       "   before after  year  ele_rank\n",
       "0    3/17  4/10  2011         3\n",
       "1    3/15  4/09  2012         3\n",
       "2    3/14  4/14  2013         3\n",
       "3    3/11  4/10  2014         3\n",
       "4    3/10  4/08  2015         3\n",
       "5    3/14  4/02  2016         3\n",
       "6    3/14  4/04  2017         3\n",
       "7    3/11  4/01  2018         3\n",
       "8    3/11  4/08  2019         3\n",
       "9    3/11  4/12  2020         3\n",
       "10   3/10  3/29  2021         3"
      ]
     },
     "execution_count": 27,
     "metadata": {},
     "output_type": "execute_result"
    }
   ],
   "source": [
    "dff_3=pd.DataFrame()\n",
    "dff_3['before']=before\n",
    "dff_3['after']=after\n",
    "dff_3['year']=[2011,2012,2013,2014,2015,2016,2017,2018,2019,2020,2021]\n",
    "dff_3['ele_rank']=3\n",
    "dff_3"
   ]
  },
  {
   "cell_type": "code",
   "execution_count": 28,
   "id": "8d1d1020",
   "metadata": {},
   "outputs": [
    {
     "data": {
      "text/html": [
       "<div>\n",
       "<style scoped>\n",
       "    .dataframe tbody tr th:only-of-type {\n",
       "        vertical-align: middle;\n",
       "    }\n",
       "\n",
       "    .dataframe tbody tr th {\n",
       "        vertical-align: top;\n",
       "    }\n",
       "\n",
       "    .dataframe thead th {\n",
       "        text-align: right;\n",
       "    }\n",
       "</style>\n",
       "<table border=\"1\" class=\"dataframe\">\n",
       "  <thead>\n",
       "    <tr style=\"text-align: right;\">\n",
       "      <th></th>\n",
       "      <th>state</th>\n",
       "      <th>year</th>\n",
       "      <th>month</th>\n",
       "      <th>actual</th>\n",
       "      <th>Viewing Date</th>\n",
       "      <th>Elevation</th>\n",
       "      <th>ele_rank</th>\n",
       "    </tr>\n",
       "  </thead>\n",
       "  <tbody>\n",
       "    <tr>\n",
       "      <th>26</th>\n",
       "      <td>AZ</td>\n",
       "      <td>2011</td>\n",
       "      <td>2011/3/24</td>\n",
       "      <td>3/24</td>\n",
       "      <td>83</td>\n",
       "      <td>1251</td>\n",
       "      <td>4</td>\n",
       "    </tr>\n",
       "    <tr>\n",
       "      <th>27</th>\n",
       "      <td>AZ</td>\n",
       "      <td>2012</td>\n",
       "      <td>2012/3/20</td>\n",
       "      <td>3/20</td>\n",
       "      <td>80</td>\n",
       "      <td>1251</td>\n",
       "      <td>4</td>\n",
       "    </tr>\n",
       "    <tr>\n",
       "      <th>28</th>\n",
       "      <td>AZ</td>\n",
       "      <td>2013</td>\n",
       "      <td>2013/3/22</td>\n",
       "      <td>3/22</td>\n",
       "      <td>81</td>\n",
       "      <td>1251</td>\n",
       "      <td>4</td>\n",
       "    </tr>\n",
       "    <tr>\n",
       "      <th>29</th>\n",
       "      <td>AZ</td>\n",
       "      <td>2014</td>\n",
       "      <td>2014/3/26</td>\n",
       "      <td>3/26</td>\n",
       "      <td>85</td>\n",
       "      <td>1251</td>\n",
       "      <td>4</td>\n",
       "    </tr>\n",
       "    <tr>\n",
       "      <th>30</th>\n",
       "      <td>AZ</td>\n",
       "      <td>2015</td>\n",
       "      <td>2015/3/29</td>\n",
       "      <td>3/29</td>\n",
       "      <td>88</td>\n",
       "      <td>1251</td>\n",
       "      <td>4</td>\n",
       "    </tr>\n",
       "    <tr>\n",
       "      <th>...</th>\n",
       "      <td>...</td>\n",
       "      <td>...</td>\n",
       "      <td>...</td>\n",
       "      <td>...</td>\n",
       "      <td>...</td>\n",
       "      <td>...</td>\n",
       "      <td>...</td>\n",
       "    </tr>\n",
       "    <tr>\n",
       "      <th>503</th>\n",
       "      <td>WY</td>\n",
       "      <td>2013</td>\n",
       "      <td>2013/4/15</td>\n",
       "      <td>4/15</td>\n",
       "      <td>105</td>\n",
       "      <td>2044</td>\n",
       "      <td>4</td>\n",
       "    </tr>\n",
       "    <tr>\n",
       "      <th>504</th>\n",
       "      <td>WY</td>\n",
       "      <td>2015</td>\n",
       "      <td>2015/4/09</td>\n",
       "      <td>4/09</td>\n",
       "      <td>99</td>\n",
       "      <td>2044</td>\n",
       "      <td>4</td>\n",
       "    </tr>\n",
       "    <tr>\n",
       "      <th>505</th>\n",
       "      <td>WY</td>\n",
       "      <td>2016</td>\n",
       "      <td>2016/3/28</td>\n",
       "      <td>3/28</td>\n",
       "      <td>88</td>\n",
       "      <td>2044</td>\n",
       "      <td>4</td>\n",
       "    </tr>\n",
       "    <tr>\n",
       "      <th>506</th>\n",
       "      <td>WY</td>\n",
       "      <td>2018</td>\n",
       "      <td>2018/4/02</td>\n",
       "      <td>4/02</td>\n",
       "      <td>92</td>\n",
       "      <td>2044</td>\n",
       "      <td>4</td>\n",
       "    </tr>\n",
       "    <tr>\n",
       "      <th>507</th>\n",
       "      <td>WY</td>\n",
       "      <td>2020</td>\n",
       "      <td>2020/3/27</td>\n",
       "      <td>3/27</td>\n",
       "      <td>87</td>\n",
       "      <td>2044</td>\n",
       "      <td>4</td>\n",
       "    </tr>\n",
       "  </tbody>\n",
       "</table>\n",
       "<p>89 rows × 7 columns</p>\n",
       "</div>"
      ],
      "text/plain": [
       "    state  year      month actual  Viewing Date  Elevation  ele_rank\n",
       "26     AZ  2011  2011/3/24   3/24            83       1251         4\n",
       "27     AZ  2012  2012/3/20   3/20            80       1251         4\n",
       "28     AZ  2013  2013/3/22   3/22            81       1251         4\n",
       "29     AZ  2014  2014/3/26   3/26            85       1251         4\n",
       "30     AZ  2015  2015/3/29   3/29            88       1251         4\n",
       "..    ...   ...        ...    ...           ...        ...       ...\n",
       "503    WY  2013  2013/4/15   4/15           105       2044         4\n",
       "504    WY  2015  2015/4/09   4/09            99       2044         4\n",
       "505    WY  2016  2016/3/28   3/28            88       2044         4\n",
       "506    WY  2018  2018/4/02   4/02            92       2044         4\n",
       "507    WY  2020  2020/3/27   3/27            87       2044         4\n",
       "\n",
       "[89 rows x 7 columns]"
      ]
     },
     "execution_count": 28,
     "metadata": {},
     "output_type": "execute_result"
    }
   ],
   "source": [
    "df_4=df[df['ele_rank']==4]\n",
    "df_4"
   ]
  },
  {
   "cell_type": "code",
   "execution_count": 29,
   "id": "20d4839a",
   "metadata": {},
   "outputs": [],
   "source": [
    "before=['5/01']*11\n",
    "after=['3/01']*11"
   ]
  },
  {
   "cell_type": "code",
   "execution_count": 30,
   "id": "15811be9",
   "metadata": {},
   "outputs": [],
   "source": [
    "for i in range(0,df_4.shape[0]):\n",
    "    temp=df_4.iloc[i,1]-2011\n",
    "    #print(df_1.iloc[i,3],before[temp],after[temp])\n",
    "    if df_4.iloc[i,3]<before[temp]:\n",
    "        before[temp]=df_4.iloc[i,3]\n",
    "    if df_4.iloc[i,3]>after[temp]:\n",
    "        after[temp]=df_4.iloc[i,3]"
   ]
  },
  {
   "cell_type": "code",
   "execution_count": 31,
   "id": "9d0b60ba",
   "metadata": {},
   "outputs": [
    {
     "data": {
      "text/html": [
       "<div>\n",
       "<style scoped>\n",
       "    .dataframe tbody tr th:only-of-type {\n",
       "        vertical-align: middle;\n",
       "    }\n",
       "\n",
       "    .dataframe tbody tr th {\n",
       "        vertical-align: top;\n",
       "    }\n",
       "\n",
       "    .dataframe thead th {\n",
       "        text-align: right;\n",
       "    }\n",
       "</style>\n",
       "<table border=\"1\" class=\"dataframe\">\n",
       "  <thead>\n",
       "    <tr style=\"text-align: right;\">\n",
       "      <th></th>\n",
       "      <th>before</th>\n",
       "      <th>after</th>\n",
       "      <th>year</th>\n",
       "      <th>ele_rank</th>\n",
       "    </tr>\n",
       "  </thead>\n",
       "  <tbody>\n",
       "    <tr>\n",
       "      <th>0</th>\n",
       "      <td>3/24</td>\n",
       "      <td>4/09</td>\n",
       "      <td>2011</td>\n",
       "      <td>4</td>\n",
       "    </tr>\n",
       "    <tr>\n",
       "      <th>1</th>\n",
       "      <td>3/20</td>\n",
       "      <td>4/12</td>\n",
       "      <td>2012</td>\n",
       "      <td>4</td>\n",
       "    </tr>\n",
       "    <tr>\n",
       "      <th>2</th>\n",
       "      <td>3/22</td>\n",
       "      <td>4/15</td>\n",
       "      <td>2013</td>\n",
       "      <td>4</td>\n",
       "    </tr>\n",
       "    <tr>\n",
       "      <th>3</th>\n",
       "      <td>3/22</td>\n",
       "      <td>4/14</td>\n",
       "      <td>2014</td>\n",
       "      <td>4</td>\n",
       "    </tr>\n",
       "    <tr>\n",
       "      <th>4</th>\n",
       "      <td>3/24</td>\n",
       "      <td>4/12</td>\n",
       "      <td>2015</td>\n",
       "      <td>4</td>\n",
       "    </tr>\n",
       "    <tr>\n",
       "      <th>5</th>\n",
       "      <td>3/22</td>\n",
       "      <td>4/14</td>\n",
       "      <td>2016</td>\n",
       "      <td>4</td>\n",
       "    </tr>\n",
       "    <tr>\n",
       "      <th>6</th>\n",
       "      <td>3/21</td>\n",
       "      <td>4/02</td>\n",
       "      <td>2017</td>\n",
       "      <td>4</td>\n",
       "    </tr>\n",
       "    <tr>\n",
       "      <th>7</th>\n",
       "      <td>3/20</td>\n",
       "      <td>4/04</td>\n",
       "      <td>2018</td>\n",
       "      <td>4</td>\n",
       "    </tr>\n",
       "    <tr>\n",
       "      <th>8</th>\n",
       "      <td>3/18</td>\n",
       "      <td>4/11</td>\n",
       "      <td>2019</td>\n",
       "      <td>4</td>\n",
       "    </tr>\n",
       "    <tr>\n",
       "      <th>9</th>\n",
       "      <td>3/16</td>\n",
       "      <td>4/08</td>\n",
       "      <td>2020</td>\n",
       "      <td>4</td>\n",
       "    </tr>\n",
       "    <tr>\n",
       "      <th>10</th>\n",
       "      <td>3/06</td>\n",
       "      <td>4/07</td>\n",
       "      <td>2021</td>\n",
       "      <td>4</td>\n",
       "    </tr>\n",
       "  </tbody>\n",
       "</table>\n",
       "</div>"
      ],
      "text/plain": [
       "   before after  year  ele_rank\n",
       "0    3/24  4/09  2011         4\n",
       "1    3/20  4/12  2012         4\n",
       "2    3/22  4/15  2013         4\n",
       "3    3/22  4/14  2014         4\n",
       "4    3/24  4/12  2015         4\n",
       "5    3/22  4/14  2016         4\n",
       "6    3/21  4/02  2017         4\n",
       "7    3/20  4/04  2018         4\n",
       "8    3/18  4/11  2019         4\n",
       "9    3/16  4/08  2020         4\n",
       "10   3/06  4/07  2021         4"
      ]
     },
     "execution_count": 31,
     "metadata": {},
     "output_type": "execute_result"
    }
   ],
   "source": [
    "dff_4=pd.DataFrame()\n",
    "dff_4['before']=before\n",
    "dff_4['after']=after\n",
    "dff_4['year']=[2011,2012,2013,2014,2015,2016,2017,2018,2019,2020,2021]\n",
    "dff_4['ele_rank']=4\n",
    "dff_4"
   ]
  },
  {
   "cell_type": "code",
   "execution_count": 33,
   "id": "af1dda30",
   "metadata": {},
   "outputs": [
    {
     "data": {
      "text/html": [
       "<div>\n",
       "<style scoped>\n",
       "    .dataframe tbody tr th:only-of-type {\n",
       "        vertical-align: middle;\n",
       "    }\n",
       "\n",
       "    .dataframe tbody tr th {\n",
       "        vertical-align: top;\n",
       "    }\n",
       "\n",
       "    .dataframe thead th {\n",
       "        text-align: right;\n",
       "    }\n",
       "</style>\n",
       "<table border=\"1\" class=\"dataframe\">\n",
       "  <thead>\n",
       "    <tr style=\"text-align: right;\">\n",
       "      <th></th>\n",
       "      <th>before</th>\n",
       "      <th>after</th>\n",
       "      <th>year</th>\n",
       "      <th>ele_rank</th>\n",
       "    </tr>\n",
       "  </thead>\n",
       "  <tbody>\n",
       "    <tr>\n",
       "      <th>0</th>\n",
       "      <td>3/13</td>\n",
       "      <td>4/09</td>\n",
       "      <td>2011</td>\n",
       "      <td>1</td>\n",
       "    </tr>\n",
       "    <tr>\n",
       "      <th>1</th>\n",
       "      <td>3/09</td>\n",
       "      <td>4/06</td>\n",
       "      <td>2012</td>\n",
       "      <td>1</td>\n",
       "    </tr>\n",
       "    <tr>\n",
       "      <th>2</th>\n",
       "      <td>3/15</td>\n",
       "      <td>4/15</td>\n",
       "      <td>2013</td>\n",
       "      <td>1</td>\n",
       "    </tr>\n",
       "    <tr>\n",
       "      <th>3</th>\n",
       "      <td>3/16</td>\n",
       "      <td>4/30</td>\n",
       "      <td>2014</td>\n",
       "      <td>1</td>\n",
       "    </tr>\n",
       "    <tr>\n",
       "      <th>4</th>\n",
       "      <td>3/17</td>\n",
       "      <td>4/18</td>\n",
       "      <td>2015</td>\n",
       "      <td>1</td>\n",
       "    </tr>\n",
       "  </tbody>\n",
       "</table>\n",
       "</div>"
      ],
      "text/plain": [
       "  before after  year  ele_rank\n",
       "0   3/13  4/09  2011         1\n",
       "1   3/09  4/06  2012         1\n",
       "2   3/15  4/15  2013         1\n",
       "3   3/16  4/30  2014         1\n",
       "4   3/17  4/18  2015         1"
      ]
     },
     "execution_count": 33,
     "metadata": {},
     "output_type": "execute_result"
    }
   ],
   "source": [
    "data=pd.concat([dff_1,dff_2,dff_3,dff_4,dff_5])\n",
    "data=data.reset_index(drop=True)\n",
    "data.head()"
   ]
  },
  {
   "cell_type": "code",
   "execution_count": 34,
   "id": "5c0a3b07",
   "metadata": {},
   "outputs": [
    {
     "data": {
      "text/html": [
       "<div>\n",
       "<style scoped>\n",
       "    .dataframe tbody tr th:only-of-type {\n",
       "        vertical-align: middle;\n",
       "    }\n",
       "\n",
       "    .dataframe tbody tr th {\n",
       "        vertical-align: top;\n",
       "    }\n",
       "\n",
       "    .dataframe thead th {\n",
       "        text-align: right;\n",
       "    }\n",
       "</style>\n",
       "<table border=\"1\" class=\"dataframe\">\n",
       "  <thead>\n",
       "    <tr style=\"text-align: right;\">\n",
       "      <th></th>\n",
       "      <th>before</th>\n",
       "      <th>after</th>\n",
       "      <th>year</th>\n",
       "      <th>ele_rank</th>\n",
       "    </tr>\n",
       "  </thead>\n",
       "  <tbody>\n",
       "    <tr>\n",
       "      <th>0</th>\n",
       "      <td>1900-03-13</td>\n",
       "      <td>1900-04-09</td>\n",
       "      <td>2011</td>\n",
       "      <td>1</td>\n",
       "    </tr>\n",
       "    <tr>\n",
       "      <th>1</th>\n",
       "      <td>1900-03-09</td>\n",
       "      <td>1900-04-06</td>\n",
       "      <td>2012</td>\n",
       "      <td>1</td>\n",
       "    </tr>\n",
       "    <tr>\n",
       "      <th>2</th>\n",
       "      <td>1900-03-15</td>\n",
       "      <td>1900-04-15</td>\n",
       "      <td>2013</td>\n",
       "      <td>1</td>\n",
       "    </tr>\n",
       "    <tr>\n",
       "      <th>3</th>\n",
       "      <td>1900-03-16</td>\n",
       "      <td>1900-04-30</td>\n",
       "      <td>2014</td>\n",
       "      <td>1</td>\n",
       "    </tr>\n",
       "    <tr>\n",
       "      <th>4</th>\n",
       "      <td>1900-03-17</td>\n",
       "      <td>1900-04-18</td>\n",
       "      <td>2015</td>\n",
       "      <td>1</td>\n",
       "    </tr>\n",
       "    <tr>\n",
       "      <th>5</th>\n",
       "      <td>1900-03-10</td>\n",
       "      <td>1900-04-09</td>\n",
       "      <td>2016</td>\n",
       "      <td>1</td>\n",
       "    </tr>\n",
       "    <tr>\n",
       "      <th>6</th>\n",
       "      <td>1900-03-10</td>\n",
       "      <td>1900-04-07</td>\n",
       "      <td>2017</td>\n",
       "      <td>1</td>\n",
       "    </tr>\n",
       "    <tr>\n",
       "      <th>7</th>\n",
       "      <td>1900-03-13</td>\n",
       "      <td>1900-04-02</td>\n",
       "      <td>2018</td>\n",
       "      <td>1</td>\n",
       "    </tr>\n",
       "    <tr>\n",
       "      <th>8</th>\n",
       "      <td>1900-03-10</td>\n",
       "      <td>1900-04-01</td>\n",
       "      <td>2019</td>\n",
       "      <td>1</td>\n",
       "    </tr>\n",
       "    <tr>\n",
       "      <th>9</th>\n",
       "      <td>1900-03-03</td>\n",
       "      <td>1900-03-24</td>\n",
       "      <td>2020</td>\n",
       "      <td>1</td>\n",
       "    </tr>\n",
       "    <tr>\n",
       "      <th>10</th>\n",
       "      <td>1900-03-09</td>\n",
       "      <td>1900-03-30</td>\n",
       "      <td>2021</td>\n",
       "      <td>1</td>\n",
       "    </tr>\n",
       "    <tr>\n",
       "      <th>11</th>\n",
       "      <td>1900-03-18</td>\n",
       "      <td>1900-04-21</td>\n",
       "      <td>2011</td>\n",
       "      <td>2</td>\n",
       "    </tr>\n",
       "    <tr>\n",
       "      <th>12</th>\n",
       "      <td>1900-03-17</td>\n",
       "      <td>1900-04-09</td>\n",
       "      <td>2012</td>\n",
       "      <td>2</td>\n",
       "    </tr>\n",
       "    <tr>\n",
       "      <th>13</th>\n",
       "      <td>1900-03-17</td>\n",
       "      <td>1900-04-07</td>\n",
       "      <td>2013</td>\n",
       "      <td>2</td>\n",
       "    </tr>\n",
       "    <tr>\n",
       "      <th>14</th>\n",
       "      <td>1900-03-16</td>\n",
       "      <td>1900-04-04</td>\n",
       "      <td>2014</td>\n",
       "      <td>2</td>\n",
       "    </tr>\n",
       "    <tr>\n",
       "      <th>15</th>\n",
       "      <td>1900-03-16</td>\n",
       "      <td>1900-04-16</td>\n",
       "      <td>2015</td>\n",
       "      <td>2</td>\n",
       "    </tr>\n",
       "    <tr>\n",
       "      <th>16</th>\n",
       "      <td>1900-03-14</td>\n",
       "      <td>1900-04-10</td>\n",
       "      <td>2016</td>\n",
       "      <td>2</td>\n",
       "    </tr>\n",
       "    <tr>\n",
       "      <th>17</th>\n",
       "      <td>1900-03-12</td>\n",
       "      <td>1900-04-09</td>\n",
       "      <td>2017</td>\n",
       "      <td>2</td>\n",
       "    </tr>\n",
       "    <tr>\n",
       "      <th>18</th>\n",
       "      <td>1900-03-15</td>\n",
       "      <td>1900-04-05</td>\n",
       "      <td>2018</td>\n",
       "      <td>2</td>\n",
       "    </tr>\n",
       "    <tr>\n",
       "      <th>19</th>\n",
       "      <td>1900-03-15</td>\n",
       "      <td>1900-04-02</td>\n",
       "      <td>2019</td>\n",
       "      <td>2</td>\n",
       "    </tr>\n",
       "    <tr>\n",
       "      <th>20</th>\n",
       "      <td>1900-03-14</td>\n",
       "      <td>1900-05-01</td>\n",
       "      <td>2020</td>\n",
       "      <td>2</td>\n",
       "    </tr>\n",
       "    <tr>\n",
       "      <th>21</th>\n",
       "      <td>1900-03-13</td>\n",
       "      <td>1900-04-03</td>\n",
       "      <td>2021</td>\n",
       "      <td>2</td>\n",
       "    </tr>\n",
       "    <tr>\n",
       "      <th>22</th>\n",
       "      <td>1900-03-17</td>\n",
       "      <td>1900-04-10</td>\n",
       "      <td>2011</td>\n",
       "      <td>3</td>\n",
       "    </tr>\n",
       "    <tr>\n",
       "      <th>23</th>\n",
       "      <td>1900-03-15</td>\n",
       "      <td>1900-04-09</td>\n",
       "      <td>2012</td>\n",
       "      <td>3</td>\n",
       "    </tr>\n",
       "    <tr>\n",
       "      <th>24</th>\n",
       "      <td>1900-03-14</td>\n",
       "      <td>1900-04-14</td>\n",
       "      <td>2013</td>\n",
       "      <td>3</td>\n",
       "    </tr>\n",
       "    <tr>\n",
       "      <th>25</th>\n",
       "      <td>1900-03-11</td>\n",
       "      <td>1900-04-10</td>\n",
       "      <td>2014</td>\n",
       "      <td>3</td>\n",
       "    </tr>\n",
       "    <tr>\n",
       "      <th>26</th>\n",
       "      <td>1900-03-10</td>\n",
       "      <td>1900-04-08</td>\n",
       "      <td>2015</td>\n",
       "      <td>3</td>\n",
       "    </tr>\n",
       "    <tr>\n",
       "      <th>27</th>\n",
       "      <td>1900-03-14</td>\n",
       "      <td>1900-04-02</td>\n",
       "      <td>2016</td>\n",
       "      <td>3</td>\n",
       "    </tr>\n",
       "    <tr>\n",
       "      <th>28</th>\n",
       "      <td>1900-03-14</td>\n",
       "      <td>1900-04-04</td>\n",
       "      <td>2017</td>\n",
       "      <td>3</td>\n",
       "    </tr>\n",
       "    <tr>\n",
       "      <th>29</th>\n",
       "      <td>1900-03-11</td>\n",
       "      <td>1900-04-01</td>\n",
       "      <td>2018</td>\n",
       "      <td>3</td>\n",
       "    </tr>\n",
       "    <tr>\n",
       "      <th>30</th>\n",
       "      <td>1900-03-11</td>\n",
       "      <td>1900-04-08</td>\n",
       "      <td>2019</td>\n",
       "      <td>3</td>\n",
       "    </tr>\n",
       "    <tr>\n",
       "      <th>31</th>\n",
       "      <td>1900-03-11</td>\n",
       "      <td>1900-04-12</td>\n",
       "      <td>2020</td>\n",
       "      <td>3</td>\n",
       "    </tr>\n",
       "    <tr>\n",
       "      <th>32</th>\n",
       "      <td>1900-03-10</td>\n",
       "      <td>1900-03-29</td>\n",
       "      <td>2021</td>\n",
       "      <td>3</td>\n",
       "    </tr>\n",
       "    <tr>\n",
       "      <th>33</th>\n",
       "      <td>1900-03-24</td>\n",
       "      <td>1900-04-09</td>\n",
       "      <td>2011</td>\n",
       "      <td>4</td>\n",
       "    </tr>\n",
       "    <tr>\n",
       "      <th>34</th>\n",
       "      <td>1900-03-20</td>\n",
       "      <td>1900-04-12</td>\n",
       "      <td>2012</td>\n",
       "      <td>4</td>\n",
       "    </tr>\n",
       "    <tr>\n",
       "      <th>35</th>\n",
       "      <td>1900-03-22</td>\n",
       "      <td>1900-04-15</td>\n",
       "      <td>2013</td>\n",
       "      <td>4</td>\n",
       "    </tr>\n",
       "    <tr>\n",
       "      <th>36</th>\n",
       "      <td>1900-03-22</td>\n",
       "      <td>1900-04-14</td>\n",
       "      <td>2014</td>\n",
       "      <td>4</td>\n",
       "    </tr>\n",
       "    <tr>\n",
       "      <th>37</th>\n",
       "      <td>1900-03-24</td>\n",
       "      <td>1900-04-12</td>\n",
       "      <td>2015</td>\n",
       "      <td>4</td>\n",
       "    </tr>\n",
       "    <tr>\n",
       "      <th>38</th>\n",
       "      <td>1900-03-22</td>\n",
       "      <td>1900-04-14</td>\n",
       "      <td>2016</td>\n",
       "      <td>4</td>\n",
       "    </tr>\n",
       "    <tr>\n",
       "      <th>39</th>\n",
       "      <td>1900-03-21</td>\n",
       "      <td>1900-04-02</td>\n",
       "      <td>2017</td>\n",
       "      <td>4</td>\n",
       "    </tr>\n",
       "    <tr>\n",
       "      <th>40</th>\n",
       "      <td>1900-03-20</td>\n",
       "      <td>1900-04-04</td>\n",
       "      <td>2018</td>\n",
       "      <td>4</td>\n",
       "    </tr>\n",
       "    <tr>\n",
       "      <th>41</th>\n",
       "      <td>1900-03-18</td>\n",
       "      <td>1900-04-11</td>\n",
       "      <td>2019</td>\n",
       "      <td>4</td>\n",
       "    </tr>\n",
       "    <tr>\n",
       "      <th>42</th>\n",
       "      <td>1900-03-16</td>\n",
       "      <td>1900-04-08</td>\n",
       "      <td>2020</td>\n",
       "      <td>4</td>\n",
       "    </tr>\n",
       "    <tr>\n",
       "      <th>43</th>\n",
       "      <td>1900-03-06</td>\n",
       "      <td>1900-04-07</td>\n",
       "      <td>2021</td>\n",
       "      <td>4</td>\n",
       "    </tr>\n",
       "    <tr>\n",
       "      <th>44</th>\n",
       "      <td>1900-03-13</td>\n",
       "      <td>1900-04-21</td>\n",
       "      <td>2011</td>\n",
       "      <td>0</td>\n",
       "    </tr>\n",
       "    <tr>\n",
       "      <th>45</th>\n",
       "      <td>1900-03-09</td>\n",
       "      <td>1900-04-12</td>\n",
       "      <td>2012</td>\n",
       "      <td>0</td>\n",
       "    </tr>\n",
       "    <tr>\n",
       "      <th>46</th>\n",
       "      <td>1900-03-14</td>\n",
       "      <td>1900-04-15</td>\n",
       "      <td>2013</td>\n",
       "      <td>0</td>\n",
       "    </tr>\n",
       "    <tr>\n",
       "      <th>47</th>\n",
       "      <td>1900-03-11</td>\n",
       "      <td>1900-04-30</td>\n",
       "      <td>2014</td>\n",
       "      <td>0</td>\n",
       "    </tr>\n",
       "    <tr>\n",
       "      <th>48</th>\n",
       "      <td>1900-03-10</td>\n",
       "      <td>1900-04-18</td>\n",
       "      <td>2015</td>\n",
       "      <td>0</td>\n",
       "    </tr>\n",
       "    <tr>\n",
       "      <th>49</th>\n",
       "      <td>1900-03-10</td>\n",
       "      <td>1900-04-14</td>\n",
       "      <td>2016</td>\n",
       "      <td>0</td>\n",
       "    </tr>\n",
       "    <tr>\n",
       "      <th>50</th>\n",
       "      <td>1900-03-10</td>\n",
       "      <td>1900-04-09</td>\n",
       "      <td>2017</td>\n",
       "      <td>0</td>\n",
       "    </tr>\n",
       "    <tr>\n",
       "      <th>51</th>\n",
       "      <td>1900-03-11</td>\n",
       "      <td>1900-04-05</td>\n",
       "      <td>2018</td>\n",
       "      <td>0</td>\n",
       "    </tr>\n",
       "    <tr>\n",
       "      <th>52</th>\n",
       "      <td>1900-03-10</td>\n",
       "      <td>1900-04-11</td>\n",
       "      <td>2019</td>\n",
       "      <td>0</td>\n",
       "    </tr>\n",
       "    <tr>\n",
       "      <th>53</th>\n",
       "      <td>1900-03-03</td>\n",
       "      <td>1900-05-01</td>\n",
       "      <td>2020</td>\n",
       "      <td>0</td>\n",
       "    </tr>\n",
       "    <tr>\n",
       "      <th>54</th>\n",
       "      <td>1900-03-06</td>\n",
       "      <td>1900-04-07</td>\n",
       "      <td>2021</td>\n",
       "      <td>0</td>\n",
       "    </tr>\n",
       "  </tbody>\n",
       "</table>\n",
       "</div>"
      ],
      "text/plain": [
       "       before      after  year  ele_rank\n",
       "0  1900-03-13 1900-04-09  2011         1\n",
       "1  1900-03-09 1900-04-06  2012         1\n",
       "2  1900-03-15 1900-04-15  2013         1\n",
       "3  1900-03-16 1900-04-30  2014         1\n",
       "4  1900-03-17 1900-04-18  2015         1\n",
       "5  1900-03-10 1900-04-09  2016         1\n",
       "6  1900-03-10 1900-04-07  2017         1\n",
       "7  1900-03-13 1900-04-02  2018         1\n",
       "8  1900-03-10 1900-04-01  2019         1\n",
       "9  1900-03-03 1900-03-24  2020         1\n",
       "10 1900-03-09 1900-03-30  2021         1\n",
       "11 1900-03-18 1900-04-21  2011         2\n",
       "12 1900-03-17 1900-04-09  2012         2\n",
       "13 1900-03-17 1900-04-07  2013         2\n",
       "14 1900-03-16 1900-04-04  2014         2\n",
       "15 1900-03-16 1900-04-16  2015         2\n",
       "16 1900-03-14 1900-04-10  2016         2\n",
       "17 1900-03-12 1900-04-09  2017         2\n",
       "18 1900-03-15 1900-04-05  2018         2\n",
       "19 1900-03-15 1900-04-02  2019         2\n",
       "20 1900-03-14 1900-05-01  2020         2\n",
       "21 1900-03-13 1900-04-03  2021         2\n",
       "22 1900-03-17 1900-04-10  2011         3\n",
       "23 1900-03-15 1900-04-09  2012         3\n",
       "24 1900-03-14 1900-04-14  2013         3\n",
       "25 1900-03-11 1900-04-10  2014         3\n",
       "26 1900-03-10 1900-04-08  2015         3\n",
       "27 1900-03-14 1900-04-02  2016         3\n",
       "28 1900-03-14 1900-04-04  2017         3\n",
       "29 1900-03-11 1900-04-01  2018         3\n",
       "30 1900-03-11 1900-04-08  2019         3\n",
       "31 1900-03-11 1900-04-12  2020         3\n",
       "32 1900-03-10 1900-03-29  2021         3\n",
       "33 1900-03-24 1900-04-09  2011         4\n",
       "34 1900-03-20 1900-04-12  2012         4\n",
       "35 1900-03-22 1900-04-15  2013         4\n",
       "36 1900-03-22 1900-04-14  2014         4\n",
       "37 1900-03-24 1900-04-12  2015         4\n",
       "38 1900-03-22 1900-04-14  2016         4\n",
       "39 1900-03-21 1900-04-02  2017         4\n",
       "40 1900-03-20 1900-04-04  2018         4\n",
       "41 1900-03-18 1900-04-11  2019         4\n",
       "42 1900-03-16 1900-04-08  2020         4\n",
       "43 1900-03-06 1900-04-07  2021         4\n",
       "44 1900-03-13 1900-04-21  2011         0\n",
       "45 1900-03-09 1900-04-12  2012         0\n",
       "46 1900-03-14 1900-04-15  2013         0\n",
       "47 1900-03-11 1900-04-30  2014         0\n",
       "48 1900-03-10 1900-04-18  2015         0\n",
       "49 1900-03-10 1900-04-14  2016         0\n",
       "50 1900-03-10 1900-04-09  2017         0\n",
       "51 1900-03-11 1900-04-05  2018         0\n",
       "52 1900-03-10 1900-04-11  2019         0\n",
       "53 1900-03-03 1900-05-01  2020         0\n",
       "54 1900-03-06 1900-04-07  2021         0"
      ]
     },
     "execution_count": 34,
     "metadata": {},
     "output_type": "execute_result"
    }
   ],
   "source": [
    "import datetime\n",
    "from datetime import datetime\n",
    "data['before']=pd.to_datetime(data['before'],format='%m/%d')\n",
    "data['after']=pd.to_datetime(data['after'],format='%m/%d')\n",
    "#data['before']=data['before'].apply(lambda x: x.strftime('%m-%d')) \n",
    "#data['after']=data['after'].apply(lambda x: x.strftime('%m-%d')) \n",
    "data"
   ]
  },
  {
   "cell_type": "code",
   "execution_count": 35,
   "id": "dce1b334",
   "metadata": {},
   "outputs": [
    {
     "data": {
      "text/plain": [
       "0    11\n",
       "1    11\n",
       "2    11\n",
       "3    11\n",
       "4    11\n",
       "Name: ele_rank, dtype: int64"
      ]
     },
     "execution_count": 35,
     "metadata": {},
     "output_type": "execute_result"
    }
   ],
   "source": [
    "data['ele_rank'].value_counts()"
   ]
  },
  {
   "cell_type": "code",
   "execution_count": 36,
   "id": "1b373d61",
   "metadata": {},
   "outputs": [],
   "source": [
    "ele_1=[True]*11+[False]*44\n",
    "ele_2=[False]*11+[True]*11+[False]*33\n",
    "ele_3=[False]*22+[True]*11+[False]*22\n",
    "ele_4=[False]*33+[True]*11+[False]*11\n",
    "ele_5=[False]*44+[True]*11"
   ]
  },
  {
   "cell_type": "code",
   "execution_count": 91,
   "id": "0d8bdc6b",
   "metadata": {
    "scrolled": false
   },
   "outputs": [
    {
     "data": {
      "application/vnd.plotly.v1+json": {
       "config": {
        "plotlyServerURL": "https://plot.ly"
       },
       "data": [
        {
         "line": {
          "color": "#600000",
          "width": 3.5
         },
         "marker": {
          "color": [
           "#FFC1E0",
           "lightpink"
          ],
          "size": 10
         },
         "mode": "lines+markers",
         "name": "2011",
         "type": "scatter",
         "visible": false,
         "x": [
          2011,
          2011
         ],
         "y": [
          "1900-03-13T00:00:00",
          "1900-04-09T00:00:00"
         ]
        },
        {
         "line": {
          "color": "#600000",
          "width": 3.5
         },
         "marker": {
          "color": [
           "#FFC1E0",
           "lightpink"
          ],
          "size": 10
         },
         "mode": "lines+markers",
         "name": "2012",
         "type": "scatter",
         "visible": false,
         "x": [
          2012,
          2012
         ],
         "y": [
          "1900-03-09T00:00:00",
          "1900-04-06T00:00:00"
         ]
        },
        {
         "line": {
          "color": "#600000",
          "width": 3.5
         },
         "marker": {
          "color": [
           "#FFC1E0",
           "lightpink"
          ],
          "size": 10
         },
         "mode": "lines+markers",
         "name": "2013",
         "type": "scatter",
         "visible": false,
         "x": [
          2013,
          2013
         ],
         "y": [
          "1900-03-15T00:00:00",
          "1900-04-15T00:00:00"
         ]
        },
        {
         "line": {
          "color": "#600000",
          "width": 3.5
         },
         "marker": {
          "color": [
           "#FFC1E0",
           "lightpink"
          ],
          "size": 10
         },
         "mode": "lines+markers",
         "name": "2014",
         "type": "scatter",
         "visible": false,
         "x": [
          2014,
          2014
         ],
         "y": [
          "1900-03-16T00:00:00",
          "1900-04-30T00:00:00"
         ]
        },
        {
         "line": {
          "color": "#600000",
          "width": 3.5
         },
         "marker": {
          "color": [
           "#FFC1E0",
           "lightpink"
          ],
          "size": 10
         },
         "mode": "lines+markers",
         "name": "2015",
         "type": "scatter",
         "visible": false,
         "x": [
          2015,
          2015
         ],
         "y": [
          "1900-03-17T00:00:00",
          "1900-04-18T00:00:00"
         ]
        },
        {
         "line": {
          "color": "#600000",
          "width": 3.5
         },
         "marker": {
          "color": [
           "#FFC1E0",
           "lightpink"
          ],
          "size": 10
         },
         "mode": "lines+markers",
         "name": "2016",
         "type": "scatter",
         "visible": false,
         "x": [
          2016,
          2016
         ],
         "y": [
          "1900-03-10T00:00:00",
          "1900-04-09T00:00:00"
         ]
        },
        {
         "line": {
          "color": "#600000",
          "width": 3.5
         },
         "marker": {
          "color": [
           "#FFC1E0",
           "lightpink"
          ],
          "size": 10
         },
         "mode": "lines+markers",
         "name": "2017",
         "type": "scatter",
         "visible": false,
         "x": [
          2017,
          2017
         ],
         "y": [
          "1900-03-10T00:00:00",
          "1900-04-07T00:00:00"
         ]
        },
        {
         "line": {
          "color": "#600000",
          "width": 3.5
         },
         "marker": {
          "color": [
           "#FFC1E0",
           "lightpink"
          ],
          "size": 10
         },
         "mode": "lines+markers",
         "name": "2018",
         "type": "scatter",
         "visible": false,
         "x": [
          2018,
          2018
         ],
         "y": [
          "1900-03-13T00:00:00",
          "1900-04-02T00:00:00"
         ]
        },
        {
         "line": {
          "color": "#600000",
          "width": 3.5
         },
         "marker": {
          "color": [
           "#FFC1E0",
           "lightpink"
          ],
          "size": 10
         },
         "mode": "lines+markers",
         "name": "2019",
         "type": "scatter",
         "visible": false,
         "x": [
          2019,
          2019
         ],
         "y": [
          "1900-03-10T00:00:00",
          "1900-04-01T00:00:00"
         ]
        },
        {
         "line": {
          "color": "#600000",
          "width": 3.5
         },
         "marker": {
          "color": [
           "#FFC1E0",
           "lightpink"
          ],
          "size": 10
         },
         "mode": "lines+markers",
         "name": "2020",
         "type": "scatter",
         "visible": false,
         "x": [
          2020,
          2020
         ],
         "y": [
          "1900-03-03T00:00:00",
          "1900-03-24T00:00:00"
         ]
        },
        {
         "line": {
          "color": "#600000",
          "width": 3.5
         },
         "marker": {
          "color": [
           "#FFC1E0",
           "lightpink"
          ],
          "size": 10
         },
         "mode": "lines+markers",
         "name": "2021",
         "type": "scatter",
         "visible": false,
         "x": [
          2021,
          2021
         ],
         "y": [
          "1900-03-09T00:00:00",
          "1900-03-30T00:00:00"
         ]
        },
        {
         "line": {
          "color": "#600000",
          "width": 3.5
         },
         "marker": {
          "color": [
           "#FFC1E0",
           "lightpink"
          ],
          "size": 10
         },
         "mode": "lines+markers",
         "name": "2011",
         "type": "scatter",
         "visible": false,
         "x": [
          2011,
          2011
         ],
         "y": [
          "1900-03-18T00:00:00",
          "1900-04-21T00:00:00"
         ]
        },
        {
         "line": {
          "color": "#600000",
          "width": 3.5
         },
         "marker": {
          "color": [
           "#FFC1E0",
           "lightpink"
          ],
          "size": 10
         },
         "mode": "lines+markers",
         "name": "2012",
         "type": "scatter",
         "visible": false,
         "x": [
          2012,
          2012
         ],
         "y": [
          "1900-03-17T00:00:00",
          "1900-04-09T00:00:00"
         ]
        },
        {
         "line": {
          "color": "#600000",
          "width": 3.5
         },
         "marker": {
          "color": [
           "#FFC1E0",
           "lightpink"
          ],
          "size": 10
         },
         "mode": "lines+markers",
         "name": "2013",
         "type": "scatter",
         "visible": false,
         "x": [
          2013,
          2013
         ],
         "y": [
          "1900-03-17T00:00:00",
          "1900-04-07T00:00:00"
         ]
        },
        {
         "line": {
          "color": "#600000",
          "width": 3.5
         },
         "marker": {
          "color": [
           "#FFC1E0",
           "lightpink"
          ],
          "size": 10
         },
         "mode": "lines+markers",
         "name": "2014",
         "type": "scatter",
         "visible": false,
         "x": [
          2014,
          2014
         ],
         "y": [
          "1900-03-16T00:00:00",
          "1900-04-04T00:00:00"
         ]
        },
        {
         "line": {
          "color": "#600000",
          "width": 3.5
         },
         "marker": {
          "color": [
           "#FFC1E0",
           "lightpink"
          ],
          "size": 10
         },
         "mode": "lines+markers",
         "name": "2015",
         "type": "scatter",
         "visible": false,
         "x": [
          2015,
          2015
         ],
         "y": [
          "1900-03-16T00:00:00",
          "1900-04-16T00:00:00"
         ]
        },
        {
         "line": {
          "color": "#600000",
          "width": 3.5
         },
         "marker": {
          "color": [
           "#FFC1E0",
           "lightpink"
          ],
          "size": 10
         },
         "mode": "lines+markers",
         "name": "2016",
         "type": "scatter",
         "visible": false,
         "x": [
          2016,
          2016
         ],
         "y": [
          "1900-03-14T00:00:00",
          "1900-04-10T00:00:00"
         ]
        },
        {
         "line": {
          "color": "#600000",
          "width": 3.5
         },
         "marker": {
          "color": [
           "#FFC1E0",
           "lightpink"
          ],
          "size": 10
         },
         "mode": "lines+markers",
         "name": "2017",
         "type": "scatter",
         "visible": false,
         "x": [
          2017,
          2017
         ],
         "y": [
          "1900-03-12T00:00:00",
          "1900-04-09T00:00:00"
         ]
        },
        {
         "line": {
          "color": "#600000",
          "width": 3.5
         },
         "marker": {
          "color": [
           "#FFC1E0",
           "lightpink"
          ],
          "size": 10
         },
         "mode": "lines+markers",
         "name": "2018",
         "type": "scatter",
         "visible": false,
         "x": [
          2018,
          2018
         ],
         "y": [
          "1900-03-15T00:00:00",
          "1900-04-05T00:00:00"
         ]
        },
        {
         "line": {
          "color": "#600000",
          "width": 3.5
         },
         "marker": {
          "color": [
           "#FFC1E0",
           "lightpink"
          ],
          "size": 10
         },
         "mode": "lines+markers",
         "name": "2019",
         "type": "scatter",
         "visible": false,
         "x": [
          2019,
          2019
         ],
         "y": [
          "1900-03-15T00:00:00",
          "1900-04-02T00:00:00"
         ]
        },
        {
         "line": {
          "color": "#600000",
          "width": 3.5
         },
         "marker": {
          "color": [
           "#FFC1E0",
           "lightpink"
          ],
          "size": 10
         },
         "mode": "lines+markers",
         "name": "2020",
         "type": "scatter",
         "visible": false,
         "x": [
          2020,
          2020
         ],
         "y": [
          "1900-03-14T00:00:00",
          "1900-05-01T00:00:00"
         ]
        },
        {
         "line": {
          "color": "#600000",
          "width": 3.5
         },
         "marker": {
          "color": [
           "#FFC1E0",
           "lightpink"
          ],
          "size": 10
         },
         "mode": "lines+markers",
         "name": "2021",
         "type": "scatter",
         "visible": false,
         "x": [
          2021,
          2021
         ],
         "y": [
          "1900-03-13T00:00:00",
          "1900-04-03T00:00:00"
         ]
        },
        {
         "line": {
          "color": "#600000",
          "width": 3.5
         },
         "marker": {
          "color": [
           "#FFC1E0",
           "lightpink"
          ],
          "size": 10
         },
         "mode": "lines+markers",
         "name": "2011",
         "type": "scatter",
         "visible": false,
         "x": [
          2011,
          2011
         ],
         "y": [
          "1900-03-17T00:00:00",
          "1900-04-10T00:00:00"
         ]
        },
        {
         "line": {
          "color": "#600000",
          "width": 3.5
         },
         "marker": {
          "color": [
           "#FFC1E0",
           "lightpink"
          ],
          "size": 10
         },
         "mode": "lines+markers",
         "name": "2012",
         "type": "scatter",
         "visible": false,
         "x": [
          2012,
          2012
         ],
         "y": [
          "1900-03-15T00:00:00",
          "1900-04-09T00:00:00"
         ]
        },
        {
         "line": {
          "color": "#600000",
          "width": 3.5
         },
         "marker": {
          "color": [
           "#FFC1E0",
           "lightpink"
          ],
          "size": 10
         },
         "mode": "lines+markers",
         "name": "2013",
         "type": "scatter",
         "visible": false,
         "x": [
          2013,
          2013
         ],
         "y": [
          "1900-03-14T00:00:00",
          "1900-04-14T00:00:00"
         ]
        },
        {
         "line": {
          "color": "#600000",
          "width": 3.5
         },
         "marker": {
          "color": [
           "#FFC1E0",
           "lightpink"
          ],
          "size": 10
         },
         "mode": "lines+markers",
         "name": "2014",
         "type": "scatter",
         "visible": false,
         "x": [
          2014,
          2014
         ],
         "y": [
          "1900-03-11T00:00:00",
          "1900-04-10T00:00:00"
         ]
        },
        {
         "line": {
          "color": "#600000",
          "width": 3.5
         },
         "marker": {
          "color": [
           "#FFC1E0",
           "lightpink"
          ],
          "size": 10
         },
         "mode": "lines+markers",
         "name": "2015",
         "type": "scatter",
         "visible": false,
         "x": [
          2015,
          2015
         ],
         "y": [
          "1900-03-10T00:00:00",
          "1900-04-08T00:00:00"
         ]
        },
        {
         "line": {
          "color": "#600000",
          "width": 3.5
         },
         "marker": {
          "color": [
           "#FFC1E0",
           "lightpink"
          ],
          "size": 10
         },
         "mode": "lines+markers",
         "name": "2016",
         "type": "scatter",
         "visible": false,
         "x": [
          2016,
          2016
         ],
         "y": [
          "1900-03-14T00:00:00",
          "1900-04-02T00:00:00"
         ]
        },
        {
         "line": {
          "color": "#600000",
          "width": 3.5
         },
         "marker": {
          "color": [
           "#FFC1E0",
           "lightpink"
          ],
          "size": 10
         },
         "mode": "lines+markers",
         "name": "2017",
         "type": "scatter",
         "visible": false,
         "x": [
          2017,
          2017
         ],
         "y": [
          "1900-03-14T00:00:00",
          "1900-04-04T00:00:00"
         ]
        },
        {
         "line": {
          "color": "#600000",
          "width": 3.5
         },
         "marker": {
          "color": [
           "#FFC1E0",
           "lightpink"
          ],
          "size": 10
         },
         "mode": "lines+markers",
         "name": "2018",
         "type": "scatter",
         "visible": false,
         "x": [
          2018,
          2018
         ],
         "y": [
          "1900-03-11T00:00:00",
          "1900-04-01T00:00:00"
         ]
        },
        {
         "line": {
          "color": "#600000",
          "width": 3.5
         },
         "marker": {
          "color": [
           "#FFC1E0",
           "lightpink"
          ],
          "size": 10
         },
         "mode": "lines+markers",
         "name": "2019",
         "type": "scatter",
         "visible": false,
         "x": [
          2019,
          2019
         ],
         "y": [
          "1900-03-11T00:00:00",
          "1900-04-08T00:00:00"
         ]
        },
        {
         "line": {
          "color": "#600000",
          "width": 3.5
         },
         "marker": {
          "color": [
           "#FFC1E0",
           "lightpink"
          ],
          "size": 10
         },
         "mode": "lines+markers",
         "name": "2020",
         "type": "scatter",
         "visible": false,
         "x": [
          2020,
          2020
         ],
         "y": [
          "1900-03-11T00:00:00",
          "1900-04-12T00:00:00"
         ]
        },
        {
         "line": {
          "color": "#600000",
          "width": 3.5
         },
         "marker": {
          "color": [
           "#FFC1E0",
           "lightpink"
          ],
          "size": 10
         },
         "mode": "lines+markers",
         "name": "2021",
         "type": "scatter",
         "visible": false,
         "x": [
          2021,
          2021
         ],
         "y": [
          "1900-03-10T00:00:00",
          "1900-03-29T00:00:00"
         ]
        },
        {
         "line": {
          "color": "#600000",
          "width": 3.5
         },
         "marker": {
          "color": [
           "#FFC1E0",
           "lightpink"
          ],
          "size": 10
         },
         "mode": "lines+markers",
         "name": "2011",
         "type": "scatter",
         "visible": false,
         "x": [
          2011,
          2011
         ],
         "y": [
          "1900-03-24T00:00:00",
          "1900-04-09T00:00:00"
         ]
        },
        {
         "line": {
          "color": "#600000",
          "width": 3.5
         },
         "marker": {
          "color": [
           "#FFC1E0",
           "lightpink"
          ],
          "size": 10
         },
         "mode": "lines+markers",
         "name": "2012",
         "type": "scatter",
         "visible": false,
         "x": [
          2012,
          2012
         ],
         "y": [
          "1900-03-20T00:00:00",
          "1900-04-12T00:00:00"
         ]
        },
        {
         "line": {
          "color": "#600000",
          "width": 3.5
         },
         "marker": {
          "color": [
           "#FFC1E0",
           "lightpink"
          ],
          "size": 10
         },
         "mode": "lines+markers",
         "name": "2013",
         "type": "scatter",
         "visible": false,
         "x": [
          2013,
          2013
         ],
         "y": [
          "1900-03-22T00:00:00",
          "1900-04-15T00:00:00"
         ]
        },
        {
         "line": {
          "color": "#600000",
          "width": 3.5
         },
         "marker": {
          "color": [
           "#FFC1E0",
           "lightpink"
          ],
          "size": 10
         },
         "mode": "lines+markers",
         "name": "2014",
         "type": "scatter",
         "visible": false,
         "x": [
          2014,
          2014
         ],
         "y": [
          "1900-03-22T00:00:00",
          "1900-04-14T00:00:00"
         ]
        },
        {
         "line": {
          "color": "#600000",
          "width": 3.5
         },
         "marker": {
          "color": [
           "#FFC1E0",
           "lightpink"
          ],
          "size": 10
         },
         "mode": "lines+markers",
         "name": "2015",
         "type": "scatter",
         "visible": false,
         "x": [
          2015,
          2015
         ],
         "y": [
          "1900-03-24T00:00:00",
          "1900-04-12T00:00:00"
         ]
        },
        {
         "line": {
          "color": "#600000",
          "width": 3.5
         },
         "marker": {
          "color": [
           "#FFC1E0",
           "lightpink"
          ],
          "size": 10
         },
         "mode": "lines+markers",
         "name": "2016",
         "type": "scatter",
         "visible": false,
         "x": [
          2016,
          2016
         ],
         "y": [
          "1900-03-22T00:00:00",
          "1900-04-14T00:00:00"
         ]
        },
        {
         "line": {
          "color": "#600000",
          "width": 3.5
         },
         "marker": {
          "color": [
           "#FFC1E0",
           "lightpink"
          ],
          "size": 10
         },
         "mode": "lines+markers",
         "name": "2017",
         "type": "scatter",
         "visible": false,
         "x": [
          2017,
          2017
         ],
         "y": [
          "1900-03-21T00:00:00",
          "1900-04-02T00:00:00"
         ]
        },
        {
         "line": {
          "color": "#600000",
          "width": 3.5
         },
         "marker": {
          "color": [
           "#FFC1E0",
           "lightpink"
          ],
          "size": 10
         },
         "mode": "lines+markers",
         "name": "2018",
         "type": "scatter",
         "visible": false,
         "x": [
          2018,
          2018
         ],
         "y": [
          "1900-03-20T00:00:00",
          "1900-04-04T00:00:00"
         ]
        },
        {
         "line": {
          "color": "#600000",
          "width": 3.5
         },
         "marker": {
          "color": [
           "#FFC1E0",
           "lightpink"
          ],
          "size": 10
         },
         "mode": "lines+markers",
         "name": "2019",
         "type": "scatter",
         "visible": false,
         "x": [
          2019,
          2019
         ],
         "y": [
          "1900-03-18T00:00:00",
          "1900-04-11T00:00:00"
         ]
        },
        {
         "line": {
          "color": "#600000",
          "width": 3.5
         },
         "marker": {
          "color": [
           "#FFC1E0",
           "lightpink"
          ],
          "size": 10
         },
         "mode": "lines+markers",
         "name": "2020",
         "type": "scatter",
         "visible": false,
         "x": [
          2020,
          2020
         ],
         "y": [
          "1900-03-16T00:00:00",
          "1900-04-08T00:00:00"
         ]
        },
        {
         "line": {
          "color": "#600000",
          "width": 3.5
         },
         "marker": {
          "color": [
           "#FFC1E0",
           "lightpink"
          ],
          "size": 10
         },
         "mode": "lines+markers",
         "name": "2021",
         "type": "scatter",
         "visible": false,
         "x": [
          2021,
          2021
         ],
         "y": [
          "1900-03-06T00:00:00",
          "1900-04-07T00:00:00"
         ]
        },
        {
         "line": {
          "color": "#600000",
          "width": 3.5
         },
         "marker": {
          "color": [
           "#FFC1E0",
           "lightpink"
          ],
          "size": 10
         },
         "mode": "lines+markers",
         "name": "2011",
         "type": "scatter",
         "visible": true,
         "x": [
          2011,
          2011
         ],
         "y": [
          "1900-03-13T00:00:00",
          "1900-04-21T00:00:00"
         ]
        },
        {
         "line": {
          "color": "#600000",
          "width": 3.5
         },
         "marker": {
          "color": [
           "#FFC1E0",
           "lightpink"
          ],
          "size": 10
         },
         "mode": "lines+markers",
         "name": "2012",
         "type": "scatter",
         "visible": true,
         "x": [
          2012,
          2012
         ],
         "y": [
          "1900-03-09T00:00:00",
          "1900-04-12T00:00:00"
         ]
        },
        {
         "line": {
          "color": "#600000",
          "width": 3.5
         },
         "marker": {
          "color": [
           "#FFC1E0",
           "lightpink"
          ],
          "size": 10
         },
         "mode": "lines+markers",
         "name": "2013",
         "type": "scatter",
         "visible": true,
         "x": [
          2013,
          2013
         ],
         "y": [
          "1900-03-14T00:00:00",
          "1900-04-15T00:00:00"
         ]
        },
        {
         "line": {
          "color": "#600000",
          "width": 3.5
         },
         "marker": {
          "color": [
           "#FFC1E0",
           "lightpink"
          ],
          "size": 10
         },
         "mode": "lines+markers",
         "name": "2014",
         "type": "scatter",
         "visible": true,
         "x": [
          2014,
          2014
         ],
         "y": [
          "1900-03-11T00:00:00",
          "1900-04-30T00:00:00"
         ]
        },
        {
         "line": {
          "color": "#600000",
          "width": 3.5
         },
         "marker": {
          "color": [
           "#FFC1E0",
           "lightpink"
          ],
          "size": 10
         },
         "mode": "lines+markers",
         "name": "2015",
         "type": "scatter",
         "visible": true,
         "x": [
          2015,
          2015
         ],
         "y": [
          "1900-03-10T00:00:00",
          "1900-04-18T00:00:00"
         ]
        },
        {
         "line": {
          "color": "#600000",
          "width": 3.5
         },
         "marker": {
          "color": [
           "#FFC1E0",
           "lightpink"
          ],
          "size": 10
         },
         "mode": "lines+markers",
         "name": "2016",
         "type": "scatter",
         "visible": true,
         "x": [
          2016,
          2016
         ],
         "y": [
          "1900-03-10T00:00:00",
          "1900-04-14T00:00:00"
         ]
        },
        {
         "line": {
          "color": "#600000",
          "width": 3.5
         },
         "marker": {
          "color": [
           "#FFC1E0",
           "lightpink"
          ],
          "size": 10
         },
         "mode": "lines+markers",
         "name": "2017",
         "type": "scatter",
         "visible": true,
         "x": [
          2017,
          2017
         ],
         "y": [
          "1900-03-10T00:00:00",
          "1900-04-09T00:00:00"
         ]
        },
        {
         "line": {
          "color": "#600000",
          "width": 3.5
         },
         "marker": {
          "color": [
           "#FFC1E0",
           "lightpink"
          ],
          "size": 10
         },
         "mode": "lines+markers",
         "name": "2018",
         "type": "scatter",
         "visible": true,
         "x": [
          2018,
          2018
         ],
         "y": [
          "1900-03-11T00:00:00",
          "1900-04-05T00:00:00"
         ]
        },
        {
         "line": {
          "color": "#600000",
          "width": 3.5
         },
         "marker": {
          "color": [
           "#FFC1E0",
           "lightpink"
          ],
          "size": 10
         },
         "mode": "lines+markers",
         "name": "2019",
         "type": "scatter",
         "visible": true,
         "x": [
          2019,
          2019
         ],
         "y": [
          "1900-03-10T00:00:00",
          "1900-04-11T00:00:00"
         ]
        },
        {
         "line": {
          "color": "#600000",
          "width": 3.5
         },
         "marker": {
          "color": [
           "#FFC1E0",
           "lightpink"
          ],
          "size": 10
         },
         "mode": "lines+markers",
         "name": "2020",
         "type": "scatter",
         "visible": true,
         "x": [
          2020,
          2020
         ],
         "y": [
          "1900-03-03T00:00:00",
          "1900-05-01T00:00:00"
         ]
        },
        {
         "line": {
          "color": "#600000",
          "width": 3.5
         },
         "marker": {
          "color": [
           "#FFC1E0",
           "lightpink"
          ],
          "size": 10
         },
         "mode": "lines+markers",
         "name": "2021",
         "type": "scatter",
         "visible": true,
         "x": [
          2021,
          2021
         ],
         "y": [
          "1900-03-06T00:00:00",
          "1900-04-07T00:00:00"
         ]
        }
       ],
       "layout": {
        "font": {
         "family": "Times New Roman"
        },
        "legend": {
         "font": {
          "family": "Times New Roman",
          "size": 14
         },
         "grouptitlefont": {
          "family": "Times New Roman"
         }
        },
        "paper_bgcolor": "rgba(0,0,0,0)",
        "plot_bgcolor": "rgba(0,0,0,0)",
        "template": {
         "data": {
          "bar": [
           {
            "error_x": {
             "color": "#2a3f5f"
            },
            "error_y": {
             "color": "#2a3f5f"
            },
            "marker": {
             "line": {
              "color": "#E5ECF6",
              "width": 0.5
             },
             "pattern": {
              "fillmode": "overlay",
              "size": 10,
              "solidity": 0.2
             }
            },
            "type": "bar"
           }
          ],
          "barpolar": [
           {
            "marker": {
             "line": {
              "color": "#E5ECF6",
              "width": 0.5
             },
             "pattern": {
              "fillmode": "overlay",
              "size": 10,
              "solidity": 0.2
             }
            },
            "type": "barpolar"
           }
          ],
          "carpet": [
           {
            "aaxis": {
             "endlinecolor": "#2a3f5f",
             "gridcolor": "white",
             "linecolor": "white",
             "minorgridcolor": "white",
             "startlinecolor": "#2a3f5f"
            },
            "baxis": {
             "endlinecolor": "#2a3f5f",
             "gridcolor": "white",
             "linecolor": "white",
             "minorgridcolor": "white",
             "startlinecolor": "#2a3f5f"
            },
            "type": "carpet"
           }
          ],
          "choropleth": [
           {
            "colorbar": {
             "outlinewidth": 0,
             "ticks": ""
            },
            "type": "choropleth"
           }
          ],
          "contour": [
           {
            "colorbar": {
             "outlinewidth": 0,
             "ticks": ""
            },
            "colorscale": [
             [
              0,
              "#0d0887"
             ],
             [
              0.1111111111111111,
              "#46039f"
             ],
             [
              0.2222222222222222,
              "#7201a8"
             ],
             [
              0.3333333333333333,
              "#9c179e"
             ],
             [
              0.4444444444444444,
              "#bd3786"
             ],
             [
              0.5555555555555556,
              "#d8576b"
             ],
             [
              0.6666666666666666,
              "#ed7953"
             ],
             [
              0.7777777777777778,
              "#fb9f3a"
             ],
             [
              0.8888888888888888,
              "#fdca26"
             ],
             [
              1,
              "#f0f921"
             ]
            ],
            "type": "contour"
           }
          ],
          "contourcarpet": [
           {
            "colorbar": {
             "outlinewidth": 0,
             "ticks": ""
            },
            "type": "contourcarpet"
           }
          ],
          "heatmap": [
           {
            "colorbar": {
             "outlinewidth": 0,
             "ticks": ""
            },
            "colorscale": [
             [
              0,
              "#0d0887"
             ],
             [
              0.1111111111111111,
              "#46039f"
             ],
             [
              0.2222222222222222,
              "#7201a8"
             ],
             [
              0.3333333333333333,
              "#9c179e"
             ],
             [
              0.4444444444444444,
              "#bd3786"
             ],
             [
              0.5555555555555556,
              "#d8576b"
             ],
             [
              0.6666666666666666,
              "#ed7953"
             ],
             [
              0.7777777777777778,
              "#fb9f3a"
             ],
             [
              0.8888888888888888,
              "#fdca26"
             ],
             [
              1,
              "#f0f921"
             ]
            ],
            "type": "heatmap"
           }
          ],
          "heatmapgl": [
           {
            "colorbar": {
             "outlinewidth": 0,
             "ticks": ""
            },
            "colorscale": [
             [
              0,
              "#0d0887"
             ],
             [
              0.1111111111111111,
              "#46039f"
             ],
             [
              0.2222222222222222,
              "#7201a8"
             ],
             [
              0.3333333333333333,
              "#9c179e"
             ],
             [
              0.4444444444444444,
              "#bd3786"
             ],
             [
              0.5555555555555556,
              "#d8576b"
             ],
             [
              0.6666666666666666,
              "#ed7953"
             ],
             [
              0.7777777777777778,
              "#fb9f3a"
             ],
             [
              0.8888888888888888,
              "#fdca26"
             ],
             [
              1,
              "#f0f921"
             ]
            ],
            "type": "heatmapgl"
           }
          ],
          "histogram": [
           {
            "marker": {
             "pattern": {
              "fillmode": "overlay",
              "size": 10,
              "solidity": 0.2
             }
            },
            "type": "histogram"
           }
          ],
          "histogram2d": [
           {
            "colorbar": {
             "outlinewidth": 0,
             "ticks": ""
            },
            "colorscale": [
             [
              0,
              "#0d0887"
             ],
             [
              0.1111111111111111,
              "#46039f"
             ],
             [
              0.2222222222222222,
              "#7201a8"
             ],
             [
              0.3333333333333333,
              "#9c179e"
             ],
             [
              0.4444444444444444,
              "#bd3786"
             ],
             [
              0.5555555555555556,
              "#d8576b"
             ],
             [
              0.6666666666666666,
              "#ed7953"
             ],
             [
              0.7777777777777778,
              "#fb9f3a"
             ],
             [
              0.8888888888888888,
              "#fdca26"
             ],
             [
              1,
              "#f0f921"
             ]
            ],
            "type": "histogram2d"
           }
          ],
          "histogram2dcontour": [
           {
            "colorbar": {
             "outlinewidth": 0,
             "ticks": ""
            },
            "colorscale": [
             [
              0,
              "#0d0887"
             ],
             [
              0.1111111111111111,
              "#46039f"
             ],
             [
              0.2222222222222222,
              "#7201a8"
             ],
             [
              0.3333333333333333,
              "#9c179e"
             ],
             [
              0.4444444444444444,
              "#bd3786"
             ],
             [
              0.5555555555555556,
              "#d8576b"
             ],
             [
              0.6666666666666666,
              "#ed7953"
             ],
             [
              0.7777777777777778,
              "#fb9f3a"
             ],
             [
              0.8888888888888888,
              "#fdca26"
             ],
             [
              1,
              "#f0f921"
             ]
            ],
            "type": "histogram2dcontour"
           }
          ],
          "mesh3d": [
           {
            "colorbar": {
             "outlinewidth": 0,
             "ticks": ""
            },
            "type": "mesh3d"
           }
          ],
          "parcoords": [
           {
            "line": {
             "colorbar": {
              "outlinewidth": 0,
              "ticks": ""
             }
            },
            "type": "parcoords"
           }
          ],
          "pie": [
           {
            "automargin": true,
            "type": "pie"
           }
          ],
          "scatter": [
           {
            "marker": {
             "colorbar": {
              "outlinewidth": 0,
              "ticks": ""
             }
            },
            "type": "scatter"
           }
          ],
          "scatter3d": [
           {
            "line": {
             "colorbar": {
              "outlinewidth": 0,
              "ticks": ""
             }
            },
            "marker": {
             "colorbar": {
              "outlinewidth": 0,
              "ticks": ""
             }
            },
            "type": "scatter3d"
           }
          ],
          "scattercarpet": [
           {
            "marker": {
             "colorbar": {
              "outlinewidth": 0,
              "ticks": ""
             }
            },
            "type": "scattercarpet"
           }
          ],
          "scattergeo": [
           {
            "marker": {
             "colorbar": {
              "outlinewidth": 0,
              "ticks": ""
             }
            },
            "type": "scattergeo"
           }
          ],
          "scattergl": [
           {
            "marker": {
             "colorbar": {
              "outlinewidth": 0,
              "ticks": ""
             }
            },
            "type": "scattergl"
           }
          ],
          "scattermapbox": [
           {
            "marker": {
             "colorbar": {
              "outlinewidth": 0,
              "ticks": ""
             }
            },
            "type": "scattermapbox"
           }
          ],
          "scatterpolar": [
           {
            "marker": {
             "colorbar": {
              "outlinewidth": 0,
              "ticks": ""
             }
            },
            "type": "scatterpolar"
           }
          ],
          "scatterpolargl": [
           {
            "marker": {
             "colorbar": {
              "outlinewidth": 0,
              "ticks": ""
             }
            },
            "type": "scatterpolargl"
           }
          ],
          "scatterternary": [
           {
            "marker": {
             "colorbar": {
              "outlinewidth": 0,
              "ticks": ""
             }
            },
            "type": "scatterternary"
           }
          ],
          "surface": [
           {
            "colorbar": {
             "outlinewidth": 0,
             "ticks": ""
            },
            "colorscale": [
             [
              0,
              "#0d0887"
             ],
             [
              0.1111111111111111,
              "#46039f"
             ],
             [
              0.2222222222222222,
              "#7201a8"
             ],
             [
              0.3333333333333333,
              "#9c179e"
             ],
             [
              0.4444444444444444,
              "#bd3786"
             ],
             [
              0.5555555555555556,
              "#d8576b"
             ],
             [
              0.6666666666666666,
              "#ed7953"
             ],
             [
              0.7777777777777778,
              "#fb9f3a"
             ],
             [
              0.8888888888888888,
              "#fdca26"
             ],
             [
              1,
              "#f0f921"
             ]
            ],
            "type": "surface"
           }
          ],
          "table": [
           {
            "cells": {
             "fill": {
              "color": "#EBF0F8"
             },
             "line": {
              "color": "white"
             }
            },
            "header": {
             "fill": {
              "color": "#C8D4E3"
             },
             "line": {
              "color": "white"
             }
            },
            "type": "table"
           }
          ]
         },
         "layout": {
          "annotationdefaults": {
           "arrowcolor": "#2a3f5f",
           "arrowhead": 0,
           "arrowwidth": 1
          },
          "autotypenumbers": "strict",
          "coloraxis": {
           "colorbar": {
            "outlinewidth": 0,
            "ticks": ""
           }
          },
          "colorscale": {
           "diverging": [
            [
             0,
             "#8e0152"
            ],
            [
             0.1,
             "#c51b7d"
            ],
            [
             0.2,
             "#de77ae"
            ],
            [
             0.3,
             "#f1b6da"
            ],
            [
             0.4,
             "#fde0ef"
            ],
            [
             0.5,
             "#f7f7f7"
            ],
            [
             0.6,
             "#e6f5d0"
            ],
            [
             0.7,
             "#b8e186"
            ],
            [
             0.8,
             "#7fbc41"
            ],
            [
             0.9,
             "#4d9221"
            ],
            [
             1,
             "#276419"
            ]
           ],
           "sequential": [
            [
             0,
             "#0d0887"
            ],
            [
             0.1111111111111111,
             "#46039f"
            ],
            [
             0.2222222222222222,
             "#7201a8"
            ],
            [
             0.3333333333333333,
             "#9c179e"
            ],
            [
             0.4444444444444444,
             "#bd3786"
            ],
            [
             0.5555555555555556,
             "#d8576b"
            ],
            [
             0.6666666666666666,
             "#ed7953"
            ],
            [
             0.7777777777777778,
             "#fb9f3a"
            ],
            [
             0.8888888888888888,
             "#fdca26"
            ],
            [
             1,
             "#f0f921"
            ]
           ],
           "sequentialminus": [
            [
             0,
             "#0d0887"
            ],
            [
             0.1111111111111111,
             "#46039f"
            ],
            [
             0.2222222222222222,
             "#7201a8"
            ],
            [
             0.3333333333333333,
             "#9c179e"
            ],
            [
             0.4444444444444444,
             "#bd3786"
            ],
            [
             0.5555555555555556,
             "#d8576b"
            ],
            [
             0.6666666666666666,
             "#ed7953"
            ],
            [
             0.7777777777777778,
             "#fb9f3a"
            ],
            [
             0.8888888888888888,
             "#fdca26"
            ],
            [
             1,
             "#f0f921"
            ]
           ]
          },
          "colorway": [
           "#636efa",
           "#EF553B",
           "#00cc96",
           "#ab63fa",
           "#FFA15A",
           "#19d3f3",
           "#FF6692",
           "#B6E880",
           "#FF97FF",
           "#FECB52"
          ],
          "font": {
           "color": "#2a3f5f"
          },
          "geo": {
           "bgcolor": "white",
           "lakecolor": "white",
           "landcolor": "#E5ECF6",
           "showlakes": true,
           "showland": true,
           "subunitcolor": "white"
          },
          "hoverlabel": {
           "align": "left"
          },
          "hovermode": "closest",
          "mapbox": {
           "style": "light"
          },
          "paper_bgcolor": "white",
          "plot_bgcolor": "#E5ECF6",
          "polar": {
           "angularaxis": {
            "gridcolor": "white",
            "linecolor": "white",
            "ticks": ""
           },
           "bgcolor": "#E5ECF6",
           "radialaxis": {
            "gridcolor": "white",
            "linecolor": "white",
            "ticks": ""
           }
          },
          "scene": {
           "xaxis": {
            "backgroundcolor": "#E5ECF6",
            "gridcolor": "white",
            "gridwidth": 2,
            "linecolor": "white",
            "showbackground": true,
            "ticks": "",
            "zerolinecolor": "white"
           },
           "yaxis": {
            "backgroundcolor": "#E5ECF6",
            "gridcolor": "white",
            "gridwidth": 2,
            "linecolor": "white",
            "showbackground": true,
            "ticks": "",
            "zerolinecolor": "white"
           },
           "zaxis": {
            "backgroundcolor": "#E5ECF6",
            "gridcolor": "white",
            "gridwidth": 2,
            "linecolor": "white",
            "showbackground": true,
            "ticks": "",
            "zerolinecolor": "white"
           }
          },
          "shapedefaults": {
           "line": {
            "color": "#2a3f5f"
           }
          },
          "ternary": {
           "aaxis": {
            "gridcolor": "white",
            "linecolor": "white",
            "ticks": ""
           },
           "baxis": {
            "gridcolor": "white",
            "linecolor": "white",
            "ticks": ""
           },
           "bgcolor": "#E5ECF6",
           "caxis": {
            "gridcolor": "white",
            "linecolor": "white",
            "ticks": ""
           }
          },
          "title": {
           "x": 0.05
          },
          "xaxis": {
           "automargin": true,
           "gridcolor": "white",
           "linecolor": "white",
           "ticks": "",
           "title": {
            "standoff": 15
           },
           "zerolinecolor": "white",
           "zerolinewidth": 2
          },
          "yaxis": {
           "automargin": true,
           "gridcolor": "white",
           "linecolor": "white",
           "ticks": "",
           "title": {
            "standoff": 15
           },
           "zerolinecolor": "white",
           "zerolinewidth": 2
          }
         }
        },
        "title": {
         "font": {
          "family": "Times New Roman",
          "size": 27.5
         },
         "text": "Starting and ending blossom viewing date in each year",
         "x": 0.5,
         "xanchor": "center",
         "y": 0.93,
         "yanchor": "top"
        },
        "updatemenus": [
         {
          "active": 4,
          "buttons": [
           {
            "args": [
             {
              "visible": [
               true,
               true,
               true,
               true,
               true,
               true,
               true,
               true,
               true,
               true,
               true,
               false,
               false,
               false,
               false,
               false,
               false,
               false,
               false,
               false,
               false,
               false,
               false,
               false,
               false,
               false,
               false,
               false,
               false,
               false,
               false,
               false,
               false,
               false,
               false,
               false,
               false,
               false,
               false,
               false,
               false,
               false,
               false,
               false,
               false,
               false,
               false,
               false,
               false,
               false,
               false,
               false,
               false,
               false,
               false
              ]
             }
            ],
            "label": "Ele_1",
            "method": "update"
           },
           {
            "args": [
             {
              "visible": [
               false,
               false,
               false,
               false,
               false,
               false,
               false,
               false,
               false,
               false,
               false,
               true,
               true,
               true,
               true,
               true,
               true,
               true,
               true,
               true,
               true,
               true,
               false,
               false,
               false,
               false,
               false,
               false,
               false,
               false,
               false,
               false,
               false,
               false,
               false,
               false,
               false,
               false,
               false,
               false,
               false,
               false,
               false,
               false,
               false,
               false,
               false,
               false,
               false,
               false,
               false,
               false,
               false,
               false,
               false
              ]
             }
            ],
            "label": "Ele_2",
            "method": "update"
           },
           {
            "args": [
             {
              "visible": [
               false,
               false,
               false,
               false,
               false,
               false,
               false,
               false,
               false,
               false,
               false,
               false,
               false,
               false,
               false,
               false,
               false,
               false,
               false,
               false,
               false,
               false,
               true,
               true,
               true,
               true,
               true,
               true,
               true,
               true,
               true,
               true,
               true,
               false,
               false,
               false,
               false,
               false,
               false,
               false,
               false,
               false,
               false,
               false,
               false,
               false,
               false,
               false,
               false,
               false,
               false,
               false,
               false,
               false,
               false
              ]
             }
            ],
            "label": "Ele_3",
            "method": "update"
           },
           {
            "args": [
             {
              "visible": [
               false,
               false,
               false,
               false,
               false,
               false,
               false,
               false,
               false,
               false,
               false,
               false,
               false,
               false,
               false,
               false,
               false,
               false,
               false,
               false,
               false,
               false,
               false,
               false,
               false,
               false,
               false,
               false,
               false,
               false,
               false,
               false,
               false,
               true,
               true,
               true,
               true,
               true,
               true,
               true,
               true,
               true,
               true,
               true,
               false,
               false,
               false,
               false,
               false,
               false,
               false,
               false,
               false,
               false,
               false
              ]
             }
            ],
            "label": "Ele_4",
            "method": "update"
           },
           {
            "args": [
             {
              "visible": [
               false,
               false,
               false,
               false,
               false,
               false,
               false,
               false,
               false,
               false,
               false,
               false,
               false,
               false,
               false,
               false,
               false,
               false,
               false,
               false,
               false,
               false,
               false,
               false,
               false,
               false,
               false,
               false,
               false,
               false,
               false,
               false,
               false,
               false,
               false,
               false,
               false,
               false,
               false,
               false,
               false,
               false,
               false,
               false,
               true,
               true,
               true,
               true,
               true,
               true,
               true,
               true,
               true,
               true,
               true
              ]
             }
            ],
            "label": "All years",
            "method": "update"
           }
          ],
          "x": -0.15,
          "xanchor": "left",
          "y": 1,
          "yanchor": "top"
         }
        ],
        "xaxis": {
         "tickfont": {
          "size": 17
         },
         "tickmode": "linear",
         "title": {
          "text": "Year"
         }
        },
        "yaxis": {
         "tickfont": {
          "size": 17
         },
         "tickformat": "%m-%d",
         "title": {
          "text": "Date"
         },
         "type": "date"
        }
       }
      },
      "text/html": [
       "<div>                            <div id=\"1af870a1-70e9-4161-8f54-83709ea0ba62\" class=\"plotly-graph-div\" style=\"height:525px; width:100%;\"></div>            <script type=\"text/javascript\">                require([\"plotly\"], function(Plotly) {                    window.PLOTLYENV=window.PLOTLYENV || {};                                    if (document.getElementById(\"1af870a1-70e9-4161-8f54-83709ea0ba62\")) {                    Plotly.newPlot(                        \"1af870a1-70e9-4161-8f54-83709ea0ba62\",                        [{\"line\":{\"color\":\"#600000\",\"width\":3.5},\"marker\":{\"color\":[\"#FFC1E0\",\"lightpink\"],\"size\":10},\"mode\":\"lines+markers\",\"name\":\"2011\",\"visible\":false,\"x\":[2011,2011],\"y\":[\"1900-03-13T00:00:00\",\"1900-04-09T00:00:00\"],\"type\":\"scatter\"},{\"line\":{\"color\":\"#600000\",\"width\":3.5},\"marker\":{\"color\":[\"#FFC1E0\",\"lightpink\"],\"size\":10},\"mode\":\"lines+markers\",\"name\":\"2012\",\"visible\":false,\"x\":[2012,2012],\"y\":[\"1900-03-09T00:00:00\",\"1900-04-06T00:00:00\"],\"type\":\"scatter\"},{\"line\":{\"color\":\"#600000\",\"width\":3.5},\"marker\":{\"color\":[\"#FFC1E0\",\"lightpink\"],\"size\":10},\"mode\":\"lines+markers\",\"name\":\"2013\",\"visible\":false,\"x\":[2013,2013],\"y\":[\"1900-03-15T00:00:00\",\"1900-04-15T00:00:00\"],\"type\":\"scatter\"},{\"line\":{\"color\":\"#600000\",\"width\":3.5},\"marker\":{\"color\":[\"#FFC1E0\",\"lightpink\"],\"size\":10},\"mode\":\"lines+markers\",\"name\":\"2014\",\"visible\":false,\"x\":[2014,2014],\"y\":[\"1900-03-16T00:00:00\",\"1900-04-30T00:00:00\"],\"type\":\"scatter\"},{\"line\":{\"color\":\"#600000\",\"width\":3.5},\"marker\":{\"color\":[\"#FFC1E0\",\"lightpink\"],\"size\":10},\"mode\":\"lines+markers\",\"name\":\"2015\",\"visible\":false,\"x\":[2015,2015],\"y\":[\"1900-03-17T00:00:00\",\"1900-04-18T00:00:00\"],\"type\":\"scatter\"},{\"line\":{\"color\":\"#600000\",\"width\":3.5},\"marker\":{\"color\":[\"#FFC1E0\",\"lightpink\"],\"size\":10},\"mode\":\"lines+markers\",\"name\":\"2016\",\"visible\":false,\"x\":[2016,2016],\"y\":[\"1900-03-10T00:00:00\",\"1900-04-09T00:00:00\"],\"type\":\"scatter\"},{\"line\":{\"color\":\"#600000\",\"width\":3.5},\"marker\":{\"color\":[\"#FFC1E0\",\"lightpink\"],\"size\":10},\"mode\":\"lines+markers\",\"name\":\"2017\",\"visible\":false,\"x\":[2017,2017],\"y\":[\"1900-03-10T00:00:00\",\"1900-04-07T00:00:00\"],\"type\":\"scatter\"},{\"line\":{\"color\":\"#600000\",\"width\":3.5},\"marker\":{\"color\":[\"#FFC1E0\",\"lightpink\"],\"size\":10},\"mode\":\"lines+markers\",\"name\":\"2018\",\"visible\":false,\"x\":[2018,2018],\"y\":[\"1900-03-13T00:00:00\",\"1900-04-02T00:00:00\"],\"type\":\"scatter\"},{\"line\":{\"color\":\"#600000\",\"width\":3.5},\"marker\":{\"color\":[\"#FFC1E0\",\"lightpink\"],\"size\":10},\"mode\":\"lines+markers\",\"name\":\"2019\",\"visible\":false,\"x\":[2019,2019],\"y\":[\"1900-03-10T00:00:00\",\"1900-04-01T00:00:00\"],\"type\":\"scatter\"},{\"line\":{\"color\":\"#600000\",\"width\":3.5},\"marker\":{\"color\":[\"#FFC1E0\",\"lightpink\"],\"size\":10},\"mode\":\"lines+markers\",\"name\":\"2020\",\"visible\":false,\"x\":[2020,2020],\"y\":[\"1900-03-03T00:00:00\",\"1900-03-24T00:00:00\"],\"type\":\"scatter\"},{\"line\":{\"color\":\"#600000\",\"width\":3.5},\"marker\":{\"color\":[\"#FFC1E0\",\"lightpink\"],\"size\":10},\"mode\":\"lines+markers\",\"name\":\"2021\",\"visible\":false,\"x\":[2021,2021],\"y\":[\"1900-03-09T00:00:00\",\"1900-03-30T00:00:00\"],\"type\":\"scatter\"},{\"line\":{\"color\":\"#600000\",\"width\":3.5},\"marker\":{\"color\":[\"#FFC1E0\",\"lightpink\"],\"size\":10},\"mode\":\"lines+markers\",\"name\":\"2011\",\"visible\":false,\"x\":[2011,2011],\"y\":[\"1900-03-18T00:00:00\",\"1900-04-21T00:00:00\"],\"type\":\"scatter\"},{\"line\":{\"color\":\"#600000\",\"width\":3.5},\"marker\":{\"color\":[\"#FFC1E0\",\"lightpink\"],\"size\":10},\"mode\":\"lines+markers\",\"name\":\"2012\",\"visible\":false,\"x\":[2012,2012],\"y\":[\"1900-03-17T00:00:00\",\"1900-04-09T00:00:00\"],\"type\":\"scatter\"},{\"line\":{\"color\":\"#600000\",\"width\":3.5},\"marker\":{\"color\":[\"#FFC1E0\",\"lightpink\"],\"size\":10},\"mode\":\"lines+markers\",\"name\":\"2013\",\"visible\":false,\"x\":[2013,2013],\"y\":[\"1900-03-17T00:00:00\",\"1900-04-07T00:00:00\"],\"type\":\"scatter\"},{\"line\":{\"color\":\"#600000\",\"width\":3.5},\"marker\":{\"color\":[\"#FFC1E0\",\"lightpink\"],\"size\":10},\"mode\":\"lines+markers\",\"name\":\"2014\",\"visible\":false,\"x\":[2014,2014],\"y\":[\"1900-03-16T00:00:00\",\"1900-04-04T00:00:00\"],\"type\":\"scatter\"},{\"line\":{\"color\":\"#600000\",\"width\":3.5},\"marker\":{\"color\":[\"#FFC1E0\",\"lightpink\"],\"size\":10},\"mode\":\"lines+markers\",\"name\":\"2015\",\"visible\":false,\"x\":[2015,2015],\"y\":[\"1900-03-16T00:00:00\",\"1900-04-16T00:00:00\"],\"type\":\"scatter\"},{\"line\":{\"color\":\"#600000\",\"width\":3.5},\"marker\":{\"color\":[\"#FFC1E0\",\"lightpink\"],\"size\":10},\"mode\":\"lines+markers\",\"name\":\"2016\",\"visible\":false,\"x\":[2016,2016],\"y\":[\"1900-03-14T00:00:00\",\"1900-04-10T00:00:00\"],\"type\":\"scatter\"},{\"line\":{\"color\":\"#600000\",\"width\":3.5},\"marker\":{\"color\":[\"#FFC1E0\",\"lightpink\"],\"size\":10},\"mode\":\"lines+markers\",\"name\":\"2017\",\"visible\":false,\"x\":[2017,2017],\"y\":[\"1900-03-12T00:00:00\",\"1900-04-09T00:00:00\"],\"type\":\"scatter\"},{\"line\":{\"color\":\"#600000\",\"width\":3.5},\"marker\":{\"color\":[\"#FFC1E0\",\"lightpink\"],\"size\":10},\"mode\":\"lines+markers\",\"name\":\"2018\",\"visible\":false,\"x\":[2018,2018],\"y\":[\"1900-03-15T00:00:00\",\"1900-04-05T00:00:00\"],\"type\":\"scatter\"},{\"line\":{\"color\":\"#600000\",\"width\":3.5},\"marker\":{\"color\":[\"#FFC1E0\",\"lightpink\"],\"size\":10},\"mode\":\"lines+markers\",\"name\":\"2019\",\"visible\":false,\"x\":[2019,2019],\"y\":[\"1900-03-15T00:00:00\",\"1900-04-02T00:00:00\"],\"type\":\"scatter\"},{\"line\":{\"color\":\"#600000\",\"width\":3.5},\"marker\":{\"color\":[\"#FFC1E0\",\"lightpink\"],\"size\":10},\"mode\":\"lines+markers\",\"name\":\"2020\",\"visible\":false,\"x\":[2020,2020],\"y\":[\"1900-03-14T00:00:00\",\"1900-05-01T00:00:00\"],\"type\":\"scatter\"},{\"line\":{\"color\":\"#600000\",\"width\":3.5},\"marker\":{\"color\":[\"#FFC1E0\",\"lightpink\"],\"size\":10},\"mode\":\"lines+markers\",\"name\":\"2021\",\"visible\":false,\"x\":[2021,2021],\"y\":[\"1900-03-13T00:00:00\",\"1900-04-03T00:00:00\"],\"type\":\"scatter\"},{\"line\":{\"color\":\"#600000\",\"width\":3.5},\"marker\":{\"color\":[\"#FFC1E0\",\"lightpink\"],\"size\":10},\"mode\":\"lines+markers\",\"name\":\"2011\",\"visible\":false,\"x\":[2011,2011],\"y\":[\"1900-03-17T00:00:00\",\"1900-04-10T00:00:00\"],\"type\":\"scatter\"},{\"line\":{\"color\":\"#600000\",\"width\":3.5},\"marker\":{\"color\":[\"#FFC1E0\",\"lightpink\"],\"size\":10},\"mode\":\"lines+markers\",\"name\":\"2012\",\"visible\":false,\"x\":[2012,2012],\"y\":[\"1900-03-15T00:00:00\",\"1900-04-09T00:00:00\"],\"type\":\"scatter\"},{\"line\":{\"color\":\"#600000\",\"width\":3.5},\"marker\":{\"color\":[\"#FFC1E0\",\"lightpink\"],\"size\":10},\"mode\":\"lines+markers\",\"name\":\"2013\",\"visible\":false,\"x\":[2013,2013],\"y\":[\"1900-03-14T00:00:00\",\"1900-04-14T00:00:00\"],\"type\":\"scatter\"},{\"line\":{\"color\":\"#600000\",\"width\":3.5},\"marker\":{\"color\":[\"#FFC1E0\",\"lightpink\"],\"size\":10},\"mode\":\"lines+markers\",\"name\":\"2014\",\"visible\":false,\"x\":[2014,2014],\"y\":[\"1900-03-11T00:00:00\",\"1900-04-10T00:00:00\"],\"type\":\"scatter\"},{\"line\":{\"color\":\"#600000\",\"width\":3.5},\"marker\":{\"color\":[\"#FFC1E0\",\"lightpink\"],\"size\":10},\"mode\":\"lines+markers\",\"name\":\"2015\",\"visible\":false,\"x\":[2015,2015],\"y\":[\"1900-03-10T00:00:00\",\"1900-04-08T00:00:00\"],\"type\":\"scatter\"},{\"line\":{\"color\":\"#600000\",\"width\":3.5},\"marker\":{\"color\":[\"#FFC1E0\",\"lightpink\"],\"size\":10},\"mode\":\"lines+markers\",\"name\":\"2016\",\"visible\":false,\"x\":[2016,2016],\"y\":[\"1900-03-14T00:00:00\",\"1900-04-02T00:00:00\"],\"type\":\"scatter\"},{\"line\":{\"color\":\"#600000\",\"width\":3.5},\"marker\":{\"color\":[\"#FFC1E0\",\"lightpink\"],\"size\":10},\"mode\":\"lines+markers\",\"name\":\"2017\",\"visible\":false,\"x\":[2017,2017],\"y\":[\"1900-03-14T00:00:00\",\"1900-04-04T00:00:00\"],\"type\":\"scatter\"},{\"line\":{\"color\":\"#600000\",\"width\":3.5},\"marker\":{\"color\":[\"#FFC1E0\",\"lightpink\"],\"size\":10},\"mode\":\"lines+markers\",\"name\":\"2018\",\"visible\":false,\"x\":[2018,2018],\"y\":[\"1900-03-11T00:00:00\",\"1900-04-01T00:00:00\"],\"type\":\"scatter\"},{\"line\":{\"color\":\"#600000\",\"width\":3.5},\"marker\":{\"color\":[\"#FFC1E0\",\"lightpink\"],\"size\":10},\"mode\":\"lines+markers\",\"name\":\"2019\",\"visible\":false,\"x\":[2019,2019],\"y\":[\"1900-03-11T00:00:00\",\"1900-04-08T00:00:00\"],\"type\":\"scatter\"},{\"line\":{\"color\":\"#600000\",\"width\":3.5},\"marker\":{\"color\":[\"#FFC1E0\",\"lightpink\"],\"size\":10},\"mode\":\"lines+markers\",\"name\":\"2020\",\"visible\":false,\"x\":[2020,2020],\"y\":[\"1900-03-11T00:00:00\",\"1900-04-12T00:00:00\"],\"type\":\"scatter\"},{\"line\":{\"color\":\"#600000\",\"width\":3.5},\"marker\":{\"color\":[\"#FFC1E0\",\"lightpink\"],\"size\":10},\"mode\":\"lines+markers\",\"name\":\"2021\",\"visible\":false,\"x\":[2021,2021],\"y\":[\"1900-03-10T00:00:00\",\"1900-03-29T00:00:00\"],\"type\":\"scatter\"},{\"line\":{\"color\":\"#600000\",\"width\":3.5},\"marker\":{\"color\":[\"#FFC1E0\",\"lightpink\"],\"size\":10},\"mode\":\"lines+markers\",\"name\":\"2011\",\"visible\":false,\"x\":[2011,2011],\"y\":[\"1900-03-24T00:00:00\",\"1900-04-09T00:00:00\"],\"type\":\"scatter\"},{\"line\":{\"color\":\"#600000\",\"width\":3.5},\"marker\":{\"color\":[\"#FFC1E0\",\"lightpink\"],\"size\":10},\"mode\":\"lines+markers\",\"name\":\"2012\",\"visible\":false,\"x\":[2012,2012],\"y\":[\"1900-03-20T00:00:00\",\"1900-04-12T00:00:00\"],\"type\":\"scatter\"},{\"line\":{\"color\":\"#600000\",\"width\":3.5},\"marker\":{\"color\":[\"#FFC1E0\",\"lightpink\"],\"size\":10},\"mode\":\"lines+markers\",\"name\":\"2013\",\"visible\":false,\"x\":[2013,2013],\"y\":[\"1900-03-22T00:00:00\",\"1900-04-15T00:00:00\"],\"type\":\"scatter\"},{\"line\":{\"color\":\"#600000\",\"width\":3.5},\"marker\":{\"color\":[\"#FFC1E0\",\"lightpink\"],\"size\":10},\"mode\":\"lines+markers\",\"name\":\"2014\",\"visible\":false,\"x\":[2014,2014],\"y\":[\"1900-03-22T00:00:00\",\"1900-04-14T00:00:00\"],\"type\":\"scatter\"},{\"line\":{\"color\":\"#600000\",\"width\":3.5},\"marker\":{\"color\":[\"#FFC1E0\",\"lightpink\"],\"size\":10},\"mode\":\"lines+markers\",\"name\":\"2015\",\"visible\":false,\"x\":[2015,2015],\"y\":[\"1900-03-24T00:00:00\",\"1900-04-12T00:00:00\"],\"type\":\"scatter\"},{\"line\":{\"color\":\"#600000\",\"width\":3.5},\"marker\":{\"color\":[\"#FFC1E0\",\"lightpink\"],\"size\":10},\"mode\":\"lines+markers\",\"name\":\"2016\",\"visible\":false,\"x\":[2016,2016],\"y\":[\"1900-03-22T00:00:00\",\"1900-04-14T00:00:00\"],\"type\":\"scatter\"},{\"line\":{\"color\":\"#600000\",\"width\":3.5},\"marker\":{\"color\":[\"#FFC1E0\",\"lightpink\"],\"size\":10},\"mode\":\"lines+markers\",\"name\":\"2017\",\"visible\":false,\"x\":[2017,2017],\"y\":[\"1900-03-21T00:00:00\",\"1900-04-02T00:00:00\"],\"type\":\"scatter\"},{\"line\":{\"color\":\"#600000\",\"width\":3.5},\"marker\":{\"color\":[\"#FFC1E0\",\"lightpink\"],\"size\":10},\"mode\":\"lines+markers\",\"name\":\"2018\",\"visible\":false,\"x\":[2018,2018],\"y\":[\"1900-03-20T00:00:00\",\"1900-04-04T00:00:00\"],\"type\":\"scatter\"},{\"line\":{\"color\":\"#600000\",\"width\":3.5},\"marker\":{\"color\":[\"#FFC1E0\",\"lightpink\"],\"size\":10},\"mode\":\"lines+markers\",\"name\":\"2019\",\"visible\":false,\"x\":[2019,2019],\"y\":[\"1900-03-18T00:00:00\",\"1900-04-11T00:00:00\"],\"type\":\"scatter\"},{\"line\":{\"color\":\"#600000\",\"width\":3.5},\"marker\":{\"color\":[\"#FFC1E0\",\"lightpink\"],\"size\":10},\"mode\":\"lines+markers\",\"name\":\"2020\",\"visible\":false,\"x\":[2020,2020],\"y\":[\"1900-03-16T00:00:00\",\"1900-04-08T00:00:00\"],\"type\":\"scatter\"},{\"line\":{\"color\":\"#600000\",\"width\":3.5},\"marker\":{\"color\":[\"#FFC1E0\",\"lightpink\"],\"size\":10},\"mode\":\"lines+markers\",\"name\":\"2021\",\"visible\":false,\"x\":[2021,2021],\"y\":[\"1900-03-06T00:00:00\",\"1900-04-07T00:00:00\"],\"type\":\"scatter\"},{\"line\":{\"color\":\"#600000\",\"width\":3.5},\"marker\":{\"color\":[\"#FFC1E0\",\"lightpink\"],\"size\":10},\"mode\":\"lines+markers\",\"name\":\"2011\",\"visible\":true,\"x\":[2011,2011],\"y\":[\"1900-03-13T00:00:00\",\"1900-04-21T00:00:00\"],\"type\":\"scatter\"},{\"line\":{\"color\":\"#600000\",\"width\":3.5},\"marker\":{\"color\":[\"#FFC1E0\",\"lightpink\"],\"size\":10},\"mode\":\"lines+markers\",\"name\":\"2012\",\"visible\":true,\"x\":[2012,2012],\"y\":[\"1900-03-09T00:00:00\",\"1900-04-12T00:00:00\"],\"type\":\"scatter\"},{\"line\":{\"color\":\"#600000\",\"width\":3.5},\"marker\":{\"color\":[\"#FFC1E0\",\"lightpink\"],\"size\":10},\"mode\":\"lines+markers\",\"name\":\"2013\",\"visible\":true,\"x\":[2013,2013],\"y\":[\"1900-03-14T00:00:00\",\"1900-04-15T00:00:00\"],\"type\":\"scatter\"},{\"line\":{\"color\":\"#600000\",\"width\":3.5},\"marker\":{\"color\":[\"#FFC1E0\",\"lightpink\"],\"size\":10},\"mode\":\"lines+markers\",\"name\":\"2014\",\"visible\":true,\"x\":[2014,2014],\"y\":[\"1900-03-11T00:00:00\",\"1900-04-30T00:00:00\"],\"type\":\"scatter\"},{\"line\":{\"color\":\"#600000\",\"width\":3.5},\"marker\":{\"color\":[\"#FFC1E0\",\"lightpink\"],\"size\":10},\"mode\":\"lines+markers\",\"name\":\"2015\",\"visible\":true,\"x\":[2015,2015],\"y\":[\"1900-03-10T00:00:00\",\"1900-04-18T00:00:00\"],\"type\":\"scatter\"},{\"line\":{\"color\":\"#600000\",\"width\":3.5},\"marker\":{\"color\":[\"#FFC1E0\",\"lightpink\"],\"size\":10},\"mode\":\"lines+markers\",\"name\":\"2016\",\"visible\":true,\"x\":[2016,2016],\"y\":[\"1900-03-10T00:00:00\",\"1900-04-14T00:00:00\"],\"type\":\"scatter\"},{\"line\":{\"color\":\"#600000\",\"width\":3.5},\"marker\":{\"color\":[\"#FFC1E0\",\"lightpink\"],\"size\":10},\"mode\":\"lines+markers\",\"name\":\"2017\",\"visible\":true,\"x\":[2017,2017],\"y\":[\"1900-03-10T00:00:00\",\"1900-04-09T00:00:00\"],\"type\":\"scatter\"},{\"line\":{\"color\":\"#600000\",\"width\":3.5},\"marker\":{\"color\":[\"#FFC1E0\",\"lightpink\"],\"size\":10},\"mode\":\"lines+markers\",\"name\":\"2018\",\"visible\":true,\"x\":[2018,2018],\"y\":[\"1900-03-11T00:00:00\",\"1900-04-05T00:00:00\"],\"type\":\"scatter\"},{\"line\":{\"color\":\"#600000\",\"width\":3.5},\"marker\":{\"color\":[\"#FFC1E0\",\"lightpink\"],\"size\":10},\"mode\":\"lines+markers\",\"name\":\"2019\",\"visible\":true,\"x\":[2019,2019],\"y\":[\"1900-03-10T00:00:00\",\"1900-04-11T00:00:00\"],\"type\":\"scatter\"},{\"line\":{\"color\":\"#600000\",\"width\":3.5},\"marker\":{\"color\":[\"#FFC1E0\",\"lightpink\"],\"size\":10},\"mode\":\"lines+markers\",\"name\":\"2020\",\"visible\":true,\"x\":[2020,2020],\"y\":[\"1900-03-03T00:00:00\",\"1900-05-01T00:00:00\"],\"type\":\"scatter\"},{\"line\":{\"color\":\"#600000\",\"width\":3.5},\"marker\":{\"color\":[\"#FFC1E0\",\"lightpink\"],\"size\":10},\"mode\":\"lines+markers\",\"name\":\"2021\",\"visible\":true,\"x\":[2021,2021],\"y\":[\"1900-03-06T00:00:00\",\"1900-04-07T00:00:00\"],\"type\":\"scatter\"}],                        {\"paper_bgcolor\":\"rgba(0,0,0,0)\",\"plot_bgcolor\":\"rgba(0,0,0,0)\",\"title\":{\"text\":\"Starting and ending blossom viewing date in each year\",\"xanchor\":\"center\",\"yanchor\":\"top\",\"x\":0.5,\"y\":0.93,\"font\":{\"family\":\"Times New Roman\",\"size\":27.5}},\"xaxis\":{\"title\":{\"text\":\"Year\"},\"tickfont\":{\"size\":17},\"tickmode\":\"linear\"},\"yaxis\":{\"title\":{\"text\":\"Date\"},\"type\":\"date\",\"tickformat\":\"%m-%d\",\"tickfont\":{\"size\":17}},\"template\":{\"data\":{\"bar\":[{\"error_x\":{\"color\":\"#2a3f5f\"},\"error_y\":{\"color\":\"#2a3f5f\"},\"marker\":{\"line\":{\"color\":\"#E5ECF6\",\"width\":0.5},\"pattern\":{\"fillmode\":\"overlay\",\"size\":10,\"solidity\":0.2}},\"type\":\"bar\"}],\"barpolar\":[{\"marker\":{\"line\":{\"color\":\"#E5ECF6\",\"width\":0.5},\"pattern\":{\"fillmode\":\"overlay\",\"size\":10,\"solidity\":0.2}},\"type\":\"barpolar\"}],\"carpet\":[{\"aaxis\":{\"endlinecolor\":\"#2a3f5f\",\"gridcolor\":\"white\",\"linecolor\":\"white\",\"minorgridcolor\":\"white\",\"startlinecolor\":\"#2a3f5f\"},\"baxis\":{\"endlinecolor\":\"#2a3f5f\",\"gridcolor\":\"white\",\"linecolor\":\"white\",\"minorgridcolor\":\"white\",\"startlinecolor\":\"#2a3f5f\"},\"type\":\"carpet\"}],\"choropleth\":[{\"colorbar\":{\"outlinewidth\":0,\"ticks\":\"\"},\"type\":\"choropleth\"}],\"contour\":[{\"colorbar\":{\"outlinewidth\":0,\"ticks\":\"\"},\"colorscale\":[[0.0,\"#0d0887\"],[0.1111111111111111,\"#46039f\"],[0.2222222222222222,\"#7201a8\"],[0.3333333333333333,\"#9c179e\"],[0.4444444444444444,\"#bd3786\"],[0.5555555555555556,\"#d8576b\"],[0.6666666666666666,\"#ed7953\"],[0.7777777777777778,\"#fb9f3a\"],[0.8888888888888888,\"#fdca26\"],[1.0,\"#f0f921\"]],\"type\":\"contour\"}],\"contourcarpet\":[{\"colorbar\":{\"outlinewidth\":0,\"ticks\":\"\"},\"type\":\"contourcarpet\"}],\"heatmap\":[{\"colorbar\":{\"outlinewidth\":0,\"ticks\":\"\"},\"colorscale\":[[0.0,\"#0d0887\"],[0.1111111111111111,\"#46039f\"],[0.2222222222222222,\"#7201a8\"],[0.3333333333333333,\"#9c179e\"],[0.4444444444444444,\"#bd3786\"],[0.5555555555555556,\"#d8576b\"],[0.6666666666666666,\"#ed7953\"],[0.7777777777777778,\"#fb9f3a\"],[0.8888888888888888,\"#fdca26\"],[1.0,\"#f0f921\"]],\"type\":\"heatmap\"}],\"heatmapgl\":[{\"colorbar\":{\"outlinewidth\":0,\"ticks\":\"\"},\"colorscale\":[[0.0,\"#0d0887\"],[0.1111111111111111,\"#46039f\"],[0.2222222222222222,\"#7201a8\"],[0.3333333333333333,\"#9c179e\"],[0.4444444444444444,\"#bd3786\"],[0.5555555555555556,\"#d8576b\"],[0.6666666666666666,\"#ed7953\"],[0.7777777777777778,\"#fb9f3a\"],[0.8888888888888888,\"#fdca26\"],[1.0,\"#f0f921\"]],\"type\":\"heatmapgl\"}],\"histogram\":[{\"marker\":{\"pattern\":{\"fillmode\":\"overlay\",\"size\":10,\"solidity\":0.2}},\"type\":\"histogram\"}],\"histogram2d\":[{\"colorbar\":{\"outlinewidth\":0,\"ticks\":\"\"},\"colorscale\":[[0.0,\"#0d0887\"],[0.1111111111111111,\"#46039f\"],[0.2222222222222222,\"#7201a8\"],[0.3333333333333333,\"#9c179e\"],[0.4444444444444444,\"#bd3786\"],[0.5555555555555556,\"#d8576b\"],[0.6666666666666666,\"#ed7953\"],[0.7777777777777778,\"#fb9f3a\"],[0.8888888888888888,\"#fdca26\"],[1.0,\"#f0f921\"]],\"type\":\"histogram2d\"}],\"histogram2dcontour\":[{\"colorbar\":{\"outlinewidth\":0,\"ticks\":\"\"},\"colorscale\":[[0.0,\"#0d0887\"],[0.1111111111111111,\"#46039f\"],[0.2222222222222222,\"#7201a8\"],[0.3333333333333333,\"#9c179e\"],[0.4444444444444444,\"#bd3786\"],[0.5555555555555556,\"#d8576b\"],[0.6666666666666666,\"#ed7953\"],[0.7777777777777778,\"#fb9f3a\"],[0.8888888888888888,\"#fdca26\"],[1.0,\"#f0f921\"]],\"type\":\"histogram2dcontour\"}],\"mesh3d\":[{\"colorbar\":{\"outlinewidth\":0,\"ticks\":\"\"},\"type\":\"mesh3d\"}],\"parcoords\":[{\"line\":{\"colorbar\":{\"outlinewidth\":0,\"ticks\":\"\"}},\"type\":\"parcoords\"}],\"pie\":[{\"automargin\":true,\"type\":\"pie\"}],\"scatter\":[{\"marker\":{\"colorbar\":{\"outlinewidth\":0,\"ticks\":\"\"}},\"type\":\"scatter\"}],\"scatter3d\":[{\"line\":{\"colorbar\":{\"outlinewidth\":0,\"ticks\":\"\"}},\"marker\":{\"colorbar\":{\"outlinewidth\":0,\"ticks\":\"\"}},\"type\":\"scatter3d\"}],\"scattercarpet\":[{\"marker\":{\"colorbar\":{\"outlinewidth\":0,\"ticks\":\"\"}},\"type\":\"scattercarpet\"}],\"scattergeo\":[{\"marker\":{\"colorbar\":{\"outlinewidth\":0,\"ticks\":\"\"}},\"type\":\"scattergeo\"}],\"scattergl\":[{\"marker\":{\"colorbar\":{\"outlinewidth\":0,\"ticks\":\"\"}},\"type\":\"scattergl\"}],\"scattermapbox\":[{\"marker\":{\"colorbar\":{\"outlinewidth\":0,\"ticks\":\"\"}},\"type\":\"scattermapbox\"}],\"scatterpolar\":[{\"marker\":{\"colorbar\":{\"outlinewidth\":0,\"ticks\":\"\"}},\"type\":\"scatterpolar\"}],\"scatterpolargl\":[{\"marker\":{\"colorbar\":{\"outlinewidth\":0,\"ticks\":\"\"}},\"type\":\"scatterpolargl\"}],\"scatterternary\":[{\"marker\":{\"colorbar\":{\"outlinewidth\":0,\"ticks\":\"\"}},\"type\":\"scatterternary\"}],\"surface\":[{\"colorbar\":{\"outlinewidth\":0,\"ticks\":\"\"},\"colorscale\":[[0.0,\"#0d0887\"],[0.1111111111111111,\"#46039f\"],[0.2222222222222222,\"#7201a8\"],[0.3333333333333333,\"#9c179e\"],[0.4444444444444444,\"#bd3786\"],[0.5555555555555556,\"#d8576b\"],[0.6666666666666666,\"#ed7953\"],[0.7777777777777778,\"#fb9f3a\"],[0.8888888888888888,\"#fdca26\"],[1.0,\"#f0f921\"]],\"type\":\"surface\"}],\"table\":[{\"cells\":{\"fill\":{\"color\":\"#EBF0F8\"},\"line\":{\"color\":\"white\"}},\"header\":{\"fill\":{\"color\":\"#C8D4E3\"},\"line\":{\"color\":\"white\"}},\"type\":\"table\"}]},\"layout\":{\"annotationdefaults\":{\"arrowcolor\":\"#2a3f5f\",\"arrowhead\":0,\"arrowwidth\":1},\"autotypenumbers\":\"strict\",\"coloraxis\":{\"colorbar\":{\"outlinewidth\":0,\"ticks\":\"\"}},\"colorscale\":{\"diverging\":[[0,\"#8e0152\"],[0.1,\"#c51b7d\"],[0.2,\"#de77ae\"],[0.3,\"#f1b6da\"],[0.4,\"#fde0ef\"],[0.5,\"#f7f7f7\"],[0.6,\"#e6f5d0\"],[0.7,\"#b8e186\"],[0.8,\"#7fbc41\"],[0.9,\"#4d9221\"],[1,\"#276419\"]],\"sequential\":[[0.0,\"#0d0887\"],[0.1111111111111111,\"#46039f\"],[0.2222222222222222,\"#7201a8\"],[0.3333333333333333,\"#9c179e\"],[0.4444444444444444,\"#bd3786\"],[0.5555555555555556,\"#d8576b\"],[0.6666666666666666,\"#ed7953\"],[0.7777777777777778,\"#fb9f3a\"],[0.8888888888888888,\"#fdca26\"],[1.0,\"#f0f921\"]],\"sequentialminus\":[[0.0,\"#0d0887\"],[0.1111111111111111,\"#46039f\"],[0.2222222222222222,\"#7201a8\"],[0.3333333333333333,\"#9c179e\"],[0.4444444444444444,\"#bd3786\"],[0.5555555555555556,\"#d8576b\"],[0.6666666666666666,\"#ed7953\"],[0.7777777777777778,\"#fb9f3a\"],[0.8888888888888888,\"#fdca26\"],[1.0,\"#f0f921\"]]},\"colorway\":[\"#636efa\",\"#EF553B\",\"#00cc96\",\"#ab63fa\",\"#FFA15A\",\"#19d3f3\",\"#FF6692\",\"#B6E880\",\"#FF97FF\",\"#FECB52\"],\"font\":{\"color\":\"#2a3f5f\"},\"geo\":{\"bgcolor\":\"white\",\"lakecolor\":\"white\",\"landcolor\":\"#E5ECF6\",\"showlakes\":true,\"showland\":true,\"subunitcolor\":\"white\"},\"hoverlabel\":{\"align\":\"left\"},\"hovermode\":\"closest\",\"mapbox\":{\"style\":\"light\"},\"paper_bgcolor\":\"white\",\"plot_bgcolor\":\"#E5ECF6\",\"polar\":{\"angularaxis\":{\"gridcolor\":\"white\",\"linecolor\":\"white\",\"ticks\":\"\"},\"bgcolor\":\"#E5ECF6\",\"radialaxis\":{\"gridcolor\":\"white\",\"linecolor\":\"white\",\"ticks\":\"\"}},\"scene\":{\"xaxis\":{\"backgroundcolor\":\"#E5ECF6\",\"gridcolor\":\"white\",\"gridwidth\":2,\"linecolor\":\"white\",\"showbackground\":true,\"ticks\":\"\",\"zerolinecolor\":\"white\"},\"yaxis\":{\"backgroundcolor\":\"#E5ECF6\",\"gridcolor\":\"white\",\"gridwidth\":2,\"linecolor\":\"white\",\"showbackground\":true,\"ticks\":\"\",\"zerolinecolor\":\"white\"},\"zaxis\":{\"backgroundcolor\":\"#E5ECF6\",\"gridcolor\":\"white\",\"gridwidth\":2,\"linecolor\":\"white\",\"showbackground\":true,\"ticks\":\"\",\"zerolinecolor\":\"white\"}},\"shapedefaults\":{\"line\":{\"color\":\"#2a3f5f\"}},\"ternary\":{\"aaxis\":{\"gridcolor\":\"white\",\"linecolor\":\"white\",\"ticks\":\"\"},\"baxis\":{\"gridcolor\":\"white\",\"linecolor\":\"white\",\"ticks\":\"\"},\"bgcolor\":\"#E5ECF6\",\"caxis\":{\"gridcolor\":\"white\",\"linecolor\":\"white\",\"ticks\":\"\"}},\"title\":{\"x\":0.05},\"xaxis\":{\"automargin\":true,\"gridcolor\":\"white\",\"linecolor\":\"white\",\"ticks\":\"\",\"title\":{\"standoff\":15},\"zerolinecolor\":\"white\",\"zerolinewidth\":2},\"yaxis\":{\"automargin\":true,\"gridcolor\":\"white\",\"linecolor\":\"white\",\"ticks\":\"\",\"title\":{\"standoff\":15},\"zerolinecolor\":\"white\",\"zerolinewidth\":2}}},\"updatemenus\":[{\"active\":4,\"buttons\":[{\"args\":[{\"visible\":[true,true,true,true,true,true,true,true,true,true,true,false,false,false,false,false,false,false,false,false,false,false,false,false,false,false,false,false,false,false,false,false,false,false,false,false,false,false,false,false,false,false,false,false,false,false,false,false,false,false,false,false,false,false,false]}],\"label\":\"Ele_1\",\"method\":\"update\"},{\"args\":[{\"visible\":[false,false,false,false,false,false,false,false,false,false,false,true,true,true,true,true,true,true,true,true,true,true,false,false,false,false,false,false,false,false,false,false,false,false,false,false,false,false,false,false,false,false,false,false,false,false,false,false,false,false,false,false,false,false,false]}],\"label\":\"Ele_2\",\"method\":\"update\"},{\"args\":[{\"visible\":[false,false,false,false,false,false,false,false,false,false,false,false,false,false,false,false,false,false,false,false,false,false,true,true,true,true,true,true,true,true,true,true,true,false,false,false,false,false,false,false,false,false,false,false,false,false,false,false,false,false,false,false,false,false,false]}],\"label\":\"Ele_3\",\"method\":\"update\"},{\"args\":[{\"visible\":[false,false,false,false,false,false,false,false,false,false,false,false,false,false,false,false,false,false,false,false,false,false,false,false,false,false,false,false,false,false,false,false,false,true,true,true,true,true,true,true,true,true,true,true,false,false,false,false,false,false,false,false,false,false,false]}],\"label\":\"Ele_4\",\"method\":\"update\"},{\"args\":[{\"visible\":[false,false,false,false,false,false,false,false,false,false,false,false,false,false,false,false,false,false,false,false,false,false,false,false,false,false,false,false,false,false,false,false,false,false,false,false,false,false,false,false,false,false,false,false,true,true,true,true,true,true,true,true,true,true,true]}],\"label\":\"All years\",\"method\":\"update\"}],\"x\":-0.15,\"xanchor\":\"left\",\"y\":1.0,\"yanchor\":\"top\"}],\"legend\":{\"font\":{\"family\":\"Times New Roman\",\"size\":14},\"grouptitlefont\":{\"family\":\"Times New Roman\"}},\"font\":{\"family\":\"Times New Roman\"}},                        {\"responsive\": true}                    ).then(function(){\n",
       "                            \n",
       "var gd = document.getElementById('1af870a1-70e9-4161-8f54-83709ea0ba62');\n",
       "var x = new MutationObserver(function (mutations, observer) {{\n",
       "        var display = window.getComputedStyle(gd).display;\n",
       "        if (!display || display === 'none') {{\n",
       "            console.log([gd, 'removed!']);\n",
       "            Plotly.purge(gd);\n",
       "            observer.disconnect();\n",
       "        }}\n",
       "}});\n",
       "\n",
       "// Listen for the removal of the full notebook cells\n",
       "var notebookContainer = gd.closest('#notebook-container');\n",
       "if (notebookContainer) {{\n",
       "    x.observe(notebookContainer, {childList: true});\n",
       "}}\n",
       "\n",
       "// Listen for the clearing of the current output cell\n",
       "var outputEl = gd.closest('.output');\n",
       "if (outputEl) {{\n",
       "    x.observe(outputEl, {childList: true});\n",
       "}}\n",
       "\n",
       "                        })                };                });            </script>        </div>"
      ]
     },
     "metadata": {},
     "output_type": "display_data"
    }
   ],
   "source": [
    "layout =go.Layout(paper_bgcolor='rgba(0,0,0,0)',plot_bgcolor='rgba(0,0,0,0)',\n",
    "                  yaxis_title=\"Date\",\n",
    "                xaxis_title=\"Year\",\n",
    "                 title='Lollipop Plot' )\n",
    "fig3= go.Figure(layout=layout)\n",
    "\n",
    "fig3.update_yaxes(type='date')\n",
    "fig3.update_layout(yaxis=dict(tickformat=\"%m-%d\"))\n",
    "\n",
    "\n",
    "fig3.update_layout(\n",
    "    updatemenus=[\n",
    "        dict(active=4,\n",
    "            buttons=list([\n",
    "            dict(label='Ele_1',\n",
    "                 method=\"update\",\n",
    "                 args=[{\"visible\":ele_1},\n",
    "                       ]),\n",
    "            dict(label=\"Ele_2\",\n",
    "                 method=\"update\",\n",
    "                 args=[{\"visible\":ele_2},\n",
    "                       ]),\n",
    "            dict(label=\"Ele_3\",\n",
    "                 method=\"update\",\n",
    "                 args=[{\"visible\":ele_3},\n",
    "                       ]),\n",
    "            dict(label=\"Ele_4\",\n",
    "                 method=\"update\",\n",
    "                 args=[{\"visible\":ele_4},\n",
    "                       ]),\n",
    "            dict(label=\"All years\",\n",
    "                 method=\"update\",\n",
    "                 args=[{\"visible\":ele_5},\n",
    "                       ])\n",
    "        ]),\n",
    "        x =- 0.15,\n",
    "        xanchor = 'left',\n",
    "        y = 1.0,\n",
    "        yanchor = 'top',     \n",
    "        )\n",
    "    ]\n",
    ")\n",
    "for i in range(0, len(data)):\n",
    "    if data['ele_rank'][i]==0:\n",
    "        fig3.add_trace(go.Scatter(y =[data[\"before\"][i],data[\"after\"][i]], \n",
    "                          x = [data[\"year\"][i],data[\"year\"][i]],\n",
    "                          mode = 'lines+markers',\n",
    "                          line_color='#600000',\n",
    "                          line_width=3.5,\n",
    "                          marker_color = ['#FFC1E0','lightpink'],\n",
    "                          marker_size = 10,\n",
    "                        name=str(data[\"year\"][i]),\n",
    "                              visible=True))\n",
    "    else:\n",
    "        fig3.add_trace(go.Scatter(y =[data[\"before\"][i],data[\"after\"][i]], \n",
    "                          x = [data[\"year\"][i],data[\"year\"][i]],\n",
    "                          mode = 'lines+markers',\n",
    "                          line_color='#600000',\n",
    "                        line_width=3.5,\n",
    "                          marker_color = ['#FFC1E0','lightpink'],\n",
    "                          marker_size = 10,\n",
    "                        name=str(data[\"year\"][i]),\n",
    "                              visible=False                         \n",
    "                                ))\n",
    "#fig3.layout.xaxis.type = 'category'\n",
    "#fig3.update_xaxes(categoryorder='category ascending')\n",
    "\n",
    "fig3.update_layout(\n",
    "    title={'text':'Starting and ending blossom viewing date in each year',\n",
    "           'xanchor':'center',\n",
    "           'yanchor':'top',\n",
    "           'x':0.5,\n",
    "          'y':0.93})\n",
    "fig3.update_layout(\n",
    "    title_font_family=\"Times New Roman\",\n",
    "    title_font_size=27.5)\n",
    "fig3.update_layout(\n",
    "    legend_font_family=\"Times New Roman\",\n",
    "    legend_font_size=14,\n",
    "    legend_grouptitlefont_family=\"Times New Roman\"\n",
    ")\n",
    "fig3.update_layout( font_family=\"Times New Roman\"\n",
    ")\n",
    "fig3.update_layout(xaxis=dict(title=\"Year\",tickmode='linear',tickfont=dict(size=17)))\n",
    "fig3.update_layout(yaxis=dict(tickfont=dict(size=17)))\n",
    "fig3.write_html(\"lollipop.html\")\n",
    "fig3.show()"
   ]
  },
  {
   "cell_type": "code",
   "execution_count": null,
   "id": "53112d1f",
   "metadata": {},
   "outputs": [],
   "source": []
  }
 ],
 "metadata": {
  "kernelspec": {
   "display_name": "Python 3",
   "language": "python",
   "name": "python3"
  },
  "language_info": {
   "codemirror_mode": {
    "name": "ipython",
    "version": 3
   },
   "file_extension": ".py",
   "mimetype": "text/x-python",
   "name": "python",
   "nbconvert_exporter": "python",
   "pygments_lexer": "ipython3",
   "version": "3.8.8"
  }
 },
 "nbformat": 4,
 "nbformat_minor": 5
}
